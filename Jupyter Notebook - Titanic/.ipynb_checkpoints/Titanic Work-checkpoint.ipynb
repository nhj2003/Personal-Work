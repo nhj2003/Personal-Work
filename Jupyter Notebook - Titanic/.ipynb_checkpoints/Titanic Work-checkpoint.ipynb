{
 "cells": [
  {
   "cell_type": "code",
   "execution_count": 126,
   "id": "a8f58d23",
   "metadata": {},
   "outputs": [],
   "source": [
    "import pandas as pd\n",
    "import numpy as np\n",
    "import seaborn as sns\n",
    "import matplotlib.pyplot as plt\n",
    "from sklearn.metrics import mean_squared_error\n",
    "from sklearn.preprocessing import StandardScaler\n",
    "from sklearn.model_selection import cross_val_score,train_test_split, KFold, RandomizedSearchCV, GridSearchCV, ParameterGrid, StratifiedKFold\n",
    "from sklearn.tree import DecisionTreeRegressor,DecisionTreeClassifier\n",
    "from sklearn.ensemble import BaggingRegressor,BaggingClassifier,RandomForestRegressor,RandomForestClassifier\n",
    "from sklearn.linear_model import LinearRegression,LogisticRegression\n",
    "from sklearn.neighbors import KNeighborsRegressor, KNeighborsClassifier\n",
    "from sklearn.metrics import roc_curve, precision_recall_curve, auc, make_scorer, recall_score, \\\n",
    "accuracy_score, precision_score, confusion_matrix, mean_squared_error, r2_score\n",
    "import itertools as it\n",
    "\n",
    "#Libraries for visualizing trees\n",
    "from sklearn.tree import export_graphviz \n",
    "from six import StringIO\n",
    "from IPython.display import Image  \n",
    "import pydotplus\n",
    "import time as time\n",
    "import warnings"
   ]
  },
  {
   "cell_type": "code",
   "execution_count": 2,
   "id": "85756d3b",
   "metadata": {},
   "outputs": [],
   "source": [
    "# Reading in the data\n",
    "train = pd.read_csv('train.csv')\n",
    "final = pd.read_csv('test.csv')\n",
    "sample = pd.read_csv('gender_submission.csv')"
   ]
  },
  {
   "cell_type": "markdown",
   "id": "8d0de0d1",
   "metadata": {},
   "source": [
    "## Data Wrangling and Prep"
   ]
  },
  {
   "cell_type": "code",
   "execution_count": 3,
   "id": "f21999da",
   "metadata": {},
   "outputs": [
    {
     "data": {
      "text/plain": [
       "PassengerId      0\n",
       "Survived         0\n",
       "Pclass           0\n",
       "Name             0\n",
       "Sex              0\n",
       "Age            177\n",
       "SibSp            0\n",
       "Parch            0\n",
       "Ticket           0\n",
       "Fare             0\n",
       "Cabin          687\n",
       "Embarked         2\n",
       "dtype: int64"
      ]
     },
     "execution_count": 3,
     "metadata": {},
     "output_type": "execute_result"
    }
   ],
   "source": [
    "# Missing values in Age, Cabin, and Embarked Noted\n",
    "train.isna().sum()"
   ]
  },
  {
   "cell_type": "code",
   "execution_count": 4,
   "id": "dfdc61e5",
   "metadata": {},
   "outputs": [
    {
     "data": {
      "text/plain": [
       "891"
      ]
     },
     "execution_count": 4,
     "metadata": {},
     "output_type": "execute_result"
    }
   ],
   "source": [
    "train.PassengerId.count()"
   ]
  },
  {
   "cell_type": "code",
   "execution_count": 5,
   "id": "422c78cc",
   "metadata": {},
   "outputs": [],
   "source": [
    "# Dropping Passenger ID because is a unique identifier and is unimportant in predicting survival\n",
    "train.drop(columns = 'PassengerId', inplace = True)"
   ]
  },
  {
   "cell_type": "code",
   "execution_count": 6,
   "id": "f8c94985",
   "metadata": {},
   "outputs": [
    {
     "data": {
      "text/html": [
       "<div>\n",
       "<style scoped>\n",
       "    .dataframe tbody tr th:only-of-type {\n",
       "        vertical-align: middle;\n",
       "    }\n",
       "\n",
       "    .dataframe tbody tr th {\n",
       "        vertical-align: top;\n",
       "    }\n",
       "\n",
       "    .dataframe thead th {\n",
       "        text-align: right;\n",
       "    }\n",
       "</style>\n",
       "<table border=\"1\" class=\"dataframe\">\n",
       "  <thead>\n",
       "    <tr style=\"text-align: right;\">\n",
       "      <th></th>\n",
       "      <th>Survived</th>\n",
       "      <th>Pclass</th>\n",
       "      <th>Name</th>\n",
       "      <th>Sex</th>\n",
       "      <th>Age</th>\n",
       "      <th>SibSp</th>\n",
       "      <th>Parch</th>\n",
       "      <th>Ticket</th>\n",
       "      <th>Fare</th>\n",
       "      <th>Cabin</th>\n",
       "      <th>Embarked</th>\n",
       "    </tr>\n",
       "  </thead>\n",
       "  <tbody>\n",
       "    <tr>\n",
       "      <th>0</th>\n",
       "      <td>0</td>\n",
       "      <td>3</td>\n",
       "      <td>Braund, Mr. Owen Harris</td>\n",
       "      <td>male</td>\n",
       "      <td>22.0</td>\n",
       "      <td>1</td>\n",
       "      <td>0</td>\n",
       "      <td>A/5 21171</td>\n",
       "      <td>7.2500</td>\n",
       "      <td>NaN</td>\n",
       "      <td>S</td>\n",
       "    </tr>\n",
       "    <tr>\n",
       "      <th>1</th>\n",
       "      <td>1</td>\n",
       "      <td>1</td>\n",
       "      <td>Cumings, Mrs. John Bradley (Florence Briggs Th...</td>\n",
       "      <td>female</td>\n",
       "      <td>38.0</td>\n",
       "      <td>1</td>\n",
       "      <td>0</td>\n",
       "      <td>PC 17599</td>\n",
       "      <td>71.2833</td>\n",
       "      <td>C85</td>\n",
       "      <td>C</td>\n",
       "    </tr>\n",
       "    <tr>\n",
       "      <th>2</th>\n",
       "      <td>1</td>\n",
       "      <td>3</td>\n",
       "      <td>Heikkinen, Miss. Laina</td>\n",
       "      <td>female</td>\n",
       "      <td>26.0</td>\n",
       "      <td>0</td>\n",
       "      <td>0</td>\n",
       "      <td>STON/O2. 3101282</td>\n",
       "      <td>7.9250</td>\n",
       "      <td>NaN</td>\n",
       "      <td>S</td>\n",
       "    </tr>\n",
       "    <tr>\n",
       "      <th>3</th>\n",
       "      <td>1</td>\n",
       "      <td>1</td>\n",
       "      <td>Futrelle, Mrs. Jacques Heath (Lily May Peel)</td>\n",
       "      <td>female</td>\n",
       "      <td>35.0</td>\n",
       "      <td>1</td>\n",
       "      <td>0</td>\n",
       "      <td>113803</td>\n",
       "      <td>53.1000</td>\n",
       "      <td>C123</td>\n",
       "      <td>S</td>\n",
       "    </tr>\n",
       "    <tr>\n",
       "      <th>4</th>\n",
       "      <td>0</td>\n",
       "      <td>3</td>\n",
       "      <td>Allen, Mr. William Henry</td>\n",
       "      <td>male</td>\n",
       "      <td>35.0</td>\n",
       "      <td>0</td>\n",
       "      <td>0</td>\n",
       "      <td>373450</td>\n",
       "      <td>8.0500</td>\n",
       "      <td>NaN</td>\n",
       "      <td>S</td>\n",
       "    </tr>\n",
       "  </tbody>\n",
       "</table>\n",
       "</div>"
      ],
      "text/plain": [
       "   Survived  Pclass                                               Name  \\\n",
       "0         0       3                            Braund, Mr. Owen Harris   \n",
       "1         1       1  Cumings, Mrs. John Bradley (Florence Briggs Th...   \n",
       "2         1       3                             Heikkinen, Miss. Laina   \n",
       "3         1       1       Futrelle, Mrs. Jacques Heath (Lily May Peel)   \n",
       "4         0       3                           Allen, Mr. William Henry   \n",
       "\n",
       "      Sex   Age  SibSp  Parch            Ticket     Fare Cabin Embarked  \n",
       "0    male  22.0      1      0         A/5 21171   7.2500   NaN        S  \n",
       "1  female  38.0      1      0          PC 17599  71.2833   C85        C  \n",
       "2  female  26.0      0      0  STON/O2. 3101282   7.9250   NaN        S  \n",
       "3  female  35.0      1      0            113803  53.1000  C123        S  \n",
       "4    male  35.0      0      0            373450   8.0500   NaN        S  "
      ]
     },
     "execution_count": 6,
     "metadata": {},
     "output_type": "execute_result"
    }
   ],
   "source": [
    "train.head()"
   ]
  },
  {
   "cell_type": "markdown",
   "id": "0fe5b069",
   "metadata": {},
   "source": [
    "Couple things to note about the variables in the dataset. **Name** is very likely to not be a good predictor for survival. Names are unique identifiers for humans, and much like a Passenger ID really only seem to serve the purpose of identifying individuals. This is most true for first names, however, last names are a bit different. Later on it may be useful to tokenize the last names of these individuals, given that certain last names that are more prominent may have been more important during the time period in which they lived thus lending a higher likelihood of survival due to their importance. Granted, this would also be reflected through other variables, such as Pclass, but I digress. Second, **Cabin**. Out of the 891 observations, 687 are missing values in Cabin. This means that 77% of missing values would either have to be imputed or ignored. This makes Cabin likely to be a very weak predictor of survival, not including the fact that cabin rooms are also likely to be confounded with other variables such as Pclass. Third, **Ticket** also seems to be too unique to be useful in predicting Survival, as unless there is another person in the test dataset who has the exact same ticket number, the training dataset would be useless in prediction. Of course this may be different if the tickets were numbered in a specific manner indicating either class or money, but that doesn't appear to be the case. Thus, we will remove those three variables. We will also really quickly turn the string column **Sex** into dummy variables."
   ]
  },
  {
   "cell_type": "code",
   "execution_count": 7,
   "id": "bf58b3d3",
   "metadata": {},
   "outputs": [],
   "source": [
    "train.drop(columns = ['Name', 'Cabin', 'Ticket'], inplace = True)\n",
    "train = pd.get_dummies(train, columns = ['Sex', 'Embarked'])"
   ]
  },
  {
   "cell_type": "markdown",
   "id": "9e48062a",
   "metadata": {},
   "source": [
    "Next, the missing values in Age should likely be taken care of. There are multiple methods we could use to impute the missing values, however, I want to try a method of using a regression model for predicting Age based on the most likely input variables, Pclass, Sex, and Fare. This is, of course, assuming that the model would be accurate. Thus, we will conduct a test."
   ]
  },
  {
   "cell_type": "code",
   "execution_count": 8,
   "id": "b3bc5a2a",
   "metadata": {},
   "outputs": [],
   "source": [
    "# Remove missing variables in train/test split\n",
    "nonantrain = train[np.invert(train.Age.isna())]\n",
    "\n",
    "agetrain, agetest = train_test_split(nonantrain, test_size = 0.2, random_state = 1)\n",
    "agetrainX = agetrain[['Pclass', 'Sex_male', 'Sex_female', 'Fare']]\n",
    "agetrainy = agetrain['Age']\n",
    "agetestX = agetrain[['Pclass', 'Sex_male', 'Sex_female', 'Fare']]\n",
    "agetesty = agetrain['Age']"
   ]
  },
  {
   "cell_type": "code",
   "execution_count": 9,
   "id": "84236c6e",
   "metadata": {},
   "outputs": [
    {
     "data": {
      "text/html": [
       "<div>\n",
       "<style scoped>\n",
       "    .dataframe tbody tr th:only-of-type {\n",
       "        vertical-align: middle;\n",
       "    }\n",
       "\n",
       "    .dataframe tbody tr th {\n",
       "        vertical-align: top;\n",
       "    }\n",
       "\n",
       "    .dataframe thead th {\n",
       "        text-align: right;\n",
       "    }\n",
       "</style>\n",
       "<table border=\"1\" class=\"dataframe\">\n",
       "  <thead>\n",
       "    <tr style=\"text-align: right;\">\n",
       "      <th></th>\n",
       "      <th>Pclass</th>\n",
       "      <th>Sex_male</th>\n",
       "      <th>Sex_female</th>\n",
       "      <th>Fare</th>\n",
       "    </tr>\n",
       "  </thead>\n",
       "  <tbody>\n",
       "    <tr>\n",
       "      <th>830</th>\n",
       "      <td>3</td>\n",
       "      <td>0</td>\n",
       "      <td>1</td>\n",
       "      <td>14.4542</td>\n",
       "    </tr>\n",
       "    <tr>\n",
       "      <th>565</th>\n",
       "      <td>3</td>\n",
       "      <td>1</td>\n",
       "      <td>0</td>\n",
       "      <td>24.1500</td>\n",
       "    </tr>\n",
       "    <tr>\n",
       "      <th>148</th>\n",
       "      <td>2</td>\n",
       "      <td>1</td>\n",
       "      <td>0</td>\n",
       "      <td>26.0000</td>\n",
       "    </tr>\n",
       "    <tr>\n",
       "      <th>105</th>\n",
       "      <td>3</td>\n",
       "      <td>1</td>\n",
       "      <td>0</td>\n",
       "      <td>7.8958</td>\n",
       "    </tr>\n",
       "    <tr>\n",
       "      <th>289</th>\n",
       "      <td>3</td>\n",
       "      <td>0</td>\n",
       "      <td>1</td>\n",
       "      <td>7.7500</td>\n",
       "    </tr>\n",
       "  </tbody>\n",
       "</table>\n",
       "</div>"
      ],
      "text/plain": [
       "     Pclass  Sex_male  Sex_female     Fare\n",
       "830       3         0           1  14.4542\n",
       "565       3         1           0  24.1500\n",
       "148       2         1           0  26.0000\n",
       "105       3         1           0   7.8958\n",
       "289       3         0           1   7.7500"
      ]
     },
     "execution_count": 9,
     "metadata": {},
     "output_type": "execute_result"
    }
   ],
   "source": [
    "agetrainX.head()"
   ]
  },
  {
   "cell_type": "code",
   "execution_count": 10,
   "id": "23bc3969",
   "metadata": {},
   "outputs": [
    {
     "data": {
      "text/plain": [
       "0.3053350603103395"
      ]
     },
     "execution_count": 10,
     "metadata": {},
     "output_type": "execute_result"
    }
   ],
   "source": [
    "regmodel = KNeighborsRegressor().fit(agetrainX, agetrainy)\n",
    "regmodel.score(agetrainX, agetrainy)"
   ]
  },
  {
   "cell_type": "markdown",
   "id": "3f66f938",
   "metadata": {},
   "source": [
    "Nevermind."
   ]
  },
  {
   "cell_type": "code",
   "execution_count": 11,
   "id": "0f995f20",
   "metadata": {},
   "outputs": [],
   "source": [
    "# Imputing mean age for missing values\n",
    "train.Age.fillna(train.Age.mean(), inplace = True)"
   ]
  },
  {
   "cell_type": "markdown",
   "id": "ea1865c0",
   "metadata": {},
   "source": [
    "Let's take a look at how the data looks like now"
   ]
  },
  {
   "cell_type": "code",
   "execution_count": 12,
   "id": "901d20d2",
   "metadata": {},
   "outputs": [
    {
     "data": {
      "text/html": [
       "<div>\n",
       "<style scoped>\n",
       "    .dataframe tbody tr th:only-of-type {\n",
       "        vertical-align: middle;\n",
       "    }\n",
       "\n",
       "    .dataframe tbody tr th {\n",
       "        vertical-align: top;\n",
       "    }\n",
       "\n",
       "    .dataframe thead th {\n",
       "        text-align: right;\n",
       "    }\n",
       "</style>\n",
       "<table border=\"1\" class=\"dataframe\">\n",
       "  <thead>\n",
       "    <tr style=\"text-align: right;\">\n",
       "      <th></th>\n",
       "      <th>Survived</th>\n",
       "      <th>Pclass</th>\n",
       "      <th>Age</th>\n",
       "      <th>SibSp</th>\n",
       "      <th>Parch</th>\n",
       "      <th>Fare</th>\n",
       "      <th>Sex_female</th>\n",
       "      <th>Sex_male</th>\n",
       "      <th>Embarked_C</th>\n",
       "      <th>Embarked_Q</th>\n",
       "      <th>Embarked_S</th>\n",
       "    </tr>\n",
       "  </thead>\n",
       "  <tbody>\n",
       "    <tr>\n",
       "      <th>0</th>\n",
       "      <td>0</td>\n",
       "      <td>3</td>\n",
       "      <td>22.0</td>\n",
       "      <td>1</td>\n",
       "      <td>0</td>\n",
       "      <td>7.2500</td>\n",
       "      <td>0</td>\n",
       "      <td>1</td>\n",
       "      <td>0</td>\n",
       "      <td>0</td>\n",
       "      <td>1</td>\n",
       "    </tr>\n",
       "    <tr>\n",
       "      <th>1</th>\n",
       "      <td>1</td>\n",
       "      <td>1</td>\n",
       "      <td>38.0</td>\n",
       "      <td>1</td>\n",
       "      <td>0</td>\n",
       "      <td>71.2833</td>\n",
       "      <td>1</td>\n",
       "      <td>0</td>\n",
       "      <td>1</td>\n",
       "      <td>0</td>\n",
       "      <td>0</td>\n",
       "    </tr>\n",
       "    <tr>\n",
       "      <th>2</th>\n",
       "      <td>1</td>\n",
       "      <td>3</td>\n",
       "      <td>26.0</td>\n",
       "      <td>0</td>\n",
       "      <td>0</td>\n",
       "      <td>7.9250</td>\n",
       "      <td>1</td>\n",
       "      <td>0</td>\n",
       "      <td>0</td>\n",
       "      <td>0</td>\n",
       "      <td>1</td>\n",
       "    </tr>\n",
       "    <tr>\n",
       "      <th>3</th>\n",
       "      <td>1</td>\n",
       "      <td>1</td>\n",
       "      <td>35.0</td>\n",
       "      <td>1</td>\n",
       "      <td>0</td>\n",
       "      <td>53.1000</td>\n",
       "      <td>1</td>\n",
       "      <td>0</td>\n",
       "      <td>0</td>\n",
       "      <td>0</td>\n",
       "      <td>1</td>\n",
       "    </tr>\n",
       "    <tr>\n",
       "      <th>4</th>\n",
       "      <td>0</td>\n",
       "      <td>3</td>\n",
       "      <td>35.0</td>\n",
       "      <td>0</td>\n",
       "      <td>0</td>\n",
       "      <td>8.0500</td>\n",
       "      <td>0</td>\n",
       "      <td>1</td>\n",
       "      <td>0</td>\n",
       "      <td>0</td>\n",
       "      <td>1</td>\n",
       "    </tr>\n",
       "  </tbody>\n",
       "</table>\n",
       "</div>"
      ],
      "text/plain": [
       "   Survived  Pclass   Age  SibSp  Parch     Fare  Sex_female  Sex_male  \\\n",
       "0         0       3  22.0      1      0   7.2500           0         1   \n",
       "1         1       1  38.0      1      0  71.2833           1         0   \n",
       "2         1       3  26.0      0      0   7.9250           1         0   \n",
       "3         1       1  35.0      1      0  53.1000           1         0   \n",
       "4         0       3  35.0      0      0   8.0500           0         1   \n",
       "\n",
       "   Embarked_C  Embarked_Q  Embarked_S  \n",
       "0           0           0           1  \n",
       "1           1           0           0  \n",
       "2           0           0           1  \n",
       "3           0           0           1  \n",
       "4           0           0           1  "
      ]
     },
     "execution_count": 12,
     "metadata": {},
     "output_type": "execute_result"
    }
   ],
   "source": [
    "train.head()"
   ]
  },
  {
   "cell_type": "code",
   "execution_count": 13,
   "id": "82efc7fa",
   "metadata": {},
   "outputs": [
    {
     "data": {
      "text/plain": [
       "Survived      0\n",
       "Pclass        0\n",
       "Age           0\n",
       "SibSp         0\n",
       "Parch         0\n",
       "Fare          0\n",
       "Sex_female    0\n",
       "Sex_male      0\n",
       "Embarked_C    0\n",
       "Embarked_Q    0\n",
       "Embarked_S    0\n",
       "dtype: int64"
      ]
     },
     "execution_count": 13,
     "metadata": {},
     "output_type": "execute_result"
    }
   ],
   "source": [
    "train.isna().sum()"
   ]
  },
  {
   "cell_type": "markdown",
   "id": "119e11a4",
   "metadata": {},
   "source": [
    "Now that the data officially looks cleaned and ready, we can start doing some exploratory data analysis to find any particular trends within the data that should be noted."
   ]
  },
  {
   "cell_type": "markdown",
   "id": "b122e0af",
   "metadata": {},
   "source": [
    "## EDA"
   ]
  },
  {
   "cell_type": "code",
   "execution_count": 14,
   "id": "77e032d1",
   "metadata": {},
   "outputs": [
    {
     "data": {
      "text/plain": [
       "<AxesSubplot: xlabel='Pclass', ylabel='Survived'>"
      ]
     },
     "execution_count": 14,
     "metadata": {},
     "output_type": "execute_result"
    },
    {
     "data": {
      "image/png": "[encoded data removed]",
      "text/plain": [
       "<Figure size 640x480 with 1 Axes>"
      ]
     },
     "metadata": {},
     "output_type": "display_data"
    }
   ],
   "source": [
    "# Look at Pclass survival rate against Survival\n",
    "sns.barplot(train, x = 'Pclass', y = 'Survived')"
   ]
  },
  {
   "cell_type": "markdown",
   "id": "ccdf38e6",
   "metadata": {},
   "source": [
    "Overall it seems as though survival rate and class are positively correlated."
   ]
  },
  {
   "cell_type": "code",
   "execution_count": 15,
   "id": "626cacaf",
   "metadata": {},
   "outputs": [
    {
     "data": {
      "text/html": [
       "<div>\n",
       "<style scoped>\n",
       "    .dataframe tbody tr th:only-of-type {\n",
       "        vertical-align: middle;\n",
       "    }\n",
       "\n",
       "    .dataframe tbody tr th {\n",
       "        vertical-align: top;\n",
       "    }\n",
       "\n",
       "    .dataframe thead th {\n",
       "        text-align: right;\n",
       "    }\n",
       "</style>\n",
       "<table border=\"1\" class=\"dataframe\">\n",
       "  <thead>\n",
       "    <tr style=\"text-align: right;\">\n",
       "      <th></th>\n",
       "      <th>Survived</th>\n",
       "      <th>Pclass</th>\n",
       "      <th>Age</th>\n",
       "      <th>SibSp</th>\n",
       "      <th>Parch</th>\n",
       "      <th>Fare</th>\n",
       "      <th>Sex_female</th>\n",
       "      <th>Sex_male</th>\n",
       "      <th>Embarked_C</th>\n",
       "      <th>Embarked_Q</th>\n",
       "      <th>Embarked_S</th>\n",
       "    </tr>\n",
       "  </thead>\n",
       "  <tbody>\n",
       "    <tr>\n",
       "      <th>0</th>\n",
       "      <td>0</td>\n",
       "      <td>3</td>\n",
       "      <td>22.0</td>\n",
       "      <td>1</td>\n",
       "      <td>0</td>\n",
       "      <td>7.2500</td>\n",
       "      <td>0</td>\n",
       "      <td>1</td>\n",
       "      <td>0</td>\n",
       "      <td>0</td>\n",
       "      <td>1</td>\n",
       "    </tr>\n",
       "    <tr>\n",
       "      <th>1</th>\n",
       "      <td>1</td>\n",
       "      <td>1</td>\n",
       "      <td>38.0</td>\n",
       "      <td>1</td>\n",
       "      <td>0</td>\n",
       "      <td>71.2833</td>\n",
       "      <td>1</td>\n",
       "      <td>0</td>\n",
       "      <td>1</td>\n",
       "      <td>0</td>\n",
       "      <td>0</td>\n",
       "    </tr>\n",
       "    <tr>\n",
       "      <th>2</th>\n",
       "      <td>1</td>\n",
       "      <td>3</td>\n",
       "      <td>26.0</td>\n",
       "      <td>0</td>\n",
       "      <td>0</td>\n",
       "      <td>7.9250</td>\n",
       "      <td>1</td>\n",
       "      <td>0</td>\n",
       "      <td>0</td>\n",
       "      <td>0</td>\n",
       "      <td>1</td>\n",
       "    </tr>\n",
       "    <tr>\n",
       "      <th>3</th>\n",
       "      <td>1</td>\n",
       "      <td>1</td>\n",
       "      <td>35.0</td>\n",
       "      <td>1</td>\n",
       "      <td>0</td>\n",
       "      <td>53.1000</td>\n",
       "      <td>1</td>\n",
       "      <td>0</td>\n",
       "      <td>0</td>\n",
       "      <td>0</td>\n",
       "      <td>1</td>\n",
       "    </tr>\n",
       "    <tr>\n",
       "      <th>4</th>\n",
       "      <td>0</td>\n",
       "      <td>3</td>\n",
       "      <td>35.0</td>\n",
       "      <td>0</td>\n",
       "      <td>0</td>\n",
       "      <td>8.0500</td>\n",
       "      <td>0</td>\n",
       "      <td>1</td>\n",
       "      <td>0</td>\n",
       "      <td>0</td>\n",
       "      <td>1</td>\n",
       "    </tr>\n",
       "  </tbody>\n",
       "</table>\n",
       "</div>"
      ],
      "text/plain": [
       "   Survived  Pclass   Age  SibSp  Parch     Fare  Sex_female  Sex_male  \\\n",
       "0         0       3  22.0      1      0   7.2500           0         1   \n",
       "1         1       1  38.0      1      0  71.2833           1         0   \n",
       "2         1       3  26.0      0      0   7.9250           1         0   \n",
       "3         1       1  35.0      1      0  53.1000           1         0   \n",
       "4         0       3  35.0      0      0   8.0500           0         1   \n",
       "\n",
       "   Embarked_C  Embarked_Q  Embarked_S  \n",
       "0           0           0           1  \n",
       "1           1           0           0  \n",
       "2           0           0           1  \n",
       "3           0           0           1  \n",
       "4           0           0           1  "
      ]
     },
     "execution_count": 15,
     "metadata": {},
     "output_type": "execute_result"
    }
   ],
   "source": [
    "train.head()"
   ]
  },
  {
   "cell_type": "code",
   "execution_count": 16,
   "id": "881653ff",
   "metadata": {},
   "outputs": [
    {
     "data": {
      "text/plain": [
       "<matplotlib.legend.Legend at 0x265f25feeb0>"
      ]
     },
     "execution_count": 16,
     "metadata": {},
     "output_type": "execute_result"
    },
    {
     "data": {
      "image/png": "[encoded data removed]",
      "text/plain": [
       "<Figure size 640x480 with 2 Axes>"
      ]
     },
     "metadata": {},
     "output_type": "display_data"
    }
   ],
   "source": [
    "# Look at Age and survival rate\n",
    "combined_data = [train.Age[train.Survived == 0], train.Age[train.Survived == 1]]\n",
    "fig, axs = plt.subplots(ncols = 2)\n",
    "plt.rcParams['figure.figsize'] = (10, 3)\n",
    "plt.rcParams['font.size'] = 10\n",
    "axs[0].boxplot(combined_data, vert = False, labels = ['Died', 'Survived'])\n",
    "axs[0].set_ylabel('Age')\n",
    "axs[0].set_xlabel('Survival')\n",
    "axs[0].set_title('Boxplot')\n",
    "\n",
    "axs[1].hist(combined_data)\n",
    "axs[1].set_ylabel('Age')\n",
    "axs[1].set_xlabel('Number Survived')\n",
    "axs[1].set_title('Histogram')\n",
    "axs[1].legend(('Died', 'Survived'))"
   ]
  },
  {
   "cell_type": "markdown",
   "id": "f6396c49",
   "metadata": {},
   "source": [
    "Overall it seems as though the only notable difference between dying and surviving when it comes to age is that most of the deaths are concentrated on those who are middle aged, e.g. around 30 years old. Otherwise, the distribution looks roughly even."
   ]
  },
  {
   "cell_type": "markdown",
   "id": "b5a1763e",
   "metadata": {},
   "source": [
    "Now let's look at the distribution of males to females that survived."
   ]
  },
  {
   "cell_type": "code",
   "execution_count": 17,
   "id": "e242243c",
   "metadata": {},
   "outputs": [
    {
     "data": {
      "text/plain": [
       "[[Text(0, 0, 'Woman'), Text(1, 0, 'Man')]]"
      ]
     },
     "execution_count": 17,
     "metadata": {},
     "output_type": "execute_result"
    },
    {
     "data": {
      "image/png": "[encoded data removed]",
      "text/plain": [
       "<Figure size 1000x300 with 1 Axes>"
      ]
     },
     "metadata": {},
     "output_type": "display_data"
    }
   ],
   "source": [
    "#Barplot of sex versus survival\n",
    "g = sns.barplot(train, x = 'Sex_male', y = 'Survived')\n",
    "g.set(xticklabels = ['Woman', 'Man'])"
   ]
  },
  {
   "cell_type": "markdown",
   "id": "cd2e48b7",
   "metadata": {},
   "source": [
    "From this there can be a strong correlation between being a woman and survival rate. It would be interesting to see a plot of age and survival rate with gender as an extra variable, which I will have plotted below"
   ]
  },
  {
   "cell_type": "code",
   "execution_count": 18,
   "id": "497151cb",
   "metadata": {},
   "outputs": [
    {
     "data": {
      "text/plain": [
       "<matplotlib.legend.Legend at 0x265f482b1c0>"
      ]
     },
     "execution_count": 18,
     "metadata": {},
     "output_type": "execute_result"
    },
    {
     "data": {
      "image/png": "[encoded data removed]",
      "text/plain": [
       "<Figure size 1000x300 with 2 Axes>"
      ]
     },
     "metadata": {},
     "output_type": "display_data"
    }
   ],
   "source": [
    "# Look at Age and survival rate\n",
    "ftrain = train[train.Sex_male == 0]\n",
    "mtrain = train[train.Sex_male == 1]\n",
    "combined_data = [ftrain.Age[ftrain.Survived == 0], ftrain.Age[ftrain.Survived == 1],\n",
    "                 mtrain.Age[mtrain.Survived == 0], mtrain.Age[mtrain.Survived == 1]]\n",
    "fig, axs = plt.subplots(ncols = 2)\n",
    "plt.rcParams['figure.figsize'] = (10, 3)\n",
    "plt.rcParams['font.size'] = 10\n",
    "axs[0].boxplot(combined_data, vert = False, labels = ['Died_Female', 'Survived_Female', 'Died_Male', 'Died_Female'])\n",
    "axs[0].set_ylabel('Age')\n",
    "axs[0].set_xlabel('Survival')\n",
    "axs[0].set_title('Boxplot')\n",
    "\n",
    "axs[1].hist(combined_data, color = ['darkred', 'red', 'blue', 'lightblue'])\n",
    "axs[1].set_ylabel('Age')\n",
    "axs[1].set_xlabel('Number Survived')\n",
    "axs[1].set_title('Histogram')\n",
    "axs[1].legend(('Died_Female', 'Survived_Female', 'Died_Male', 'Survived_Male'))"
   ]
  },
  {
   "cell_type": "markdown",
   "id": "9a6de3b1",
   "metadata": {},
   "source": [
    "Overall it seems as though the trends for death and survival by age for males and females are follow the same trend, with the notable exception that death and survival are switched for men and women, i.e. women survived more than they did die at a certain age whereas men died more than they survived at that same age."
   ]
  },
  {
   "cell_type": "markdown",
   "id": "4c30cf3f",
   "metadata": {},
   "source": [
    "The last interesting relationship I'd like to take a look at before looking at general correlations using .corr(), would be the embarked category. Although this is likely to have no correlation with survival rate, it would definitely be interesting to see if there may be further factors that may make this a more definitive relationship than it would seem at the surface. For instance, perhaps certain embarkment points were compiled of more wealthy passengers, resulting in a higher survival rate. Regardless, the only way to see is to plot."
   ]
  },
  {
   "cell_type": "code",
   "execution_count": 19,
   "id": "5b5749e0",
   "metadata": {},
   "outputs": [
    {
     "data": {
      "text/plain": [
       "[Text(0.5, 0, 'Embarkment point')]"
      ]
     },
     "execution_count": 19,
     "metadata": {},
     "output_type": "execute_result"
    },
    {
     "data": {
      "image/png": "[encoded data removed]",
      "text/plain": [
       "<Figure size 1000x300 with 1 Axes>"
      ]
     },
     "metadata": {},
     "output_type": "display_data"
    }
   ],
   "source": [
    "# Melting data so that it can be used in a barplot\n",
    "new_train = train.melt(id_vars = 'Survived', value_vars = ['Embarked_C', 'Embarked_S', 'Embarked_Q'])\n",
    "new_train = new_train[new_train.value == 1]\n",
    "\n",
    "plt.rcParams['figure.figsize'] = (10, 3)\n",
    "plt.rcParams['font.size'] = 10\n",
    "g = sns.barplot(new_train, x = 'variable', y = 'Survived')\n",
    "g.set(xlabel = 'Embarkment point')"
   ]
  },
  {
   "cell_type": "markdown",
   "id": "d8e1cde8",
   "metadata": {},
   "source": [
    "Overall it seems as though there does appear to be a survival difference between the different embarkment points. However, it would be important to note here that the survival rates are all within only 10% of each other, thus this could very much be due to chance. Now we will look at the correlation table to see if there are any other highly correlated stats that may require an interesting look at. Although this will not reveal any multi-correlated variables, it is a good reference."
   ]
  },
  {
   "cell_type": "code",
   "execution_count": 20,
   "id": "d5f2667b",
   "metadata": {},
   "outputs": [
    {
     "data": {
      "text/html": [
       "<div>\n",
       "<style scoped>\n",
       "    .dataframe tbody tr th:only-of-type {\n",
       "        vertical-align: middle;\n",
       "    }\n",
       "\n",
       "    .dataframe tbody tr th {\n",
       "        vertical-align: top;\n",
       "    }\n",
       "\n",
       "    .dataframe thead th {\n",
       "        text-align: right;\n",
       "    }\n",
       "</style>\n",
       "<table border=\"1\" class=\"dataframe\">\n",
       "  <thead>\n",
       "    <tr style=\"text-align: right;\">\n",
       "      <th></th>\n",
       "      <th>Survived</th>\n",
       "      <th>Pclass</th>\n",
       "      <th>Age</th>\n",
       "      <th>SibSp</th>\n",
       "      <th>Parch</th>\n",
       "      <th>Fare</th>\n",
       "      <th>Sex_female</th>\n",
       "      <th>Sex_male</th>\n",
       "      <th>Embarked_C</th>\n",
       "      <th>Embarked_Q</th>\n",
       "      <th>Embarked_S</th>\n",
       "    </tr>\n",
       "  </thead>\n",
       "  <tbody>\n",
       "    <tr>\n",
       "      <th>Survived</th>\n",
       "      <td>1.000000</td>\n",
       "      <td>-0.338481</td>\n",
       "      <td>-0.069809</td>\n",
       "      <td>-0.035322</td>\n",
       "      <td>0.081629</td>\n",
       "      <td>0.257307</td>\n",
       "      <td>0.543351</td>\n",
       "      <td>-0.543351</td>\n",
       "      <td>0.168240</td>\n",
       "      <td>0.003650</td>\n",
       "      <td>-0.155660</td>\n",
       "    </tr>\n",
       "    <tr>\n",
       "      <th>Pclass</th>\n",
       "      <td>-0.338481</td>\n",
       "      <td>1.000000</td>\n",
       "      <td>-0.331339</td>\n",
       "      <td>0.083081</td>\n",
       "      <td>0.018443</td>\n",
       "      <td>-0.549500</td>\n",
       "      <td>-0.131900</td>\n",
       "      <td>0.131900</td>\n",
       "      <td>-0.243292</td>\n",
       "      <td>0.221009</td>\n",
       "      <td>0.081720</td>\n",
       "    </tr>\n",
       "    <tr>\n",
       "      <th>Age</th>\n",
       "      <td>-0.069809</td>\n",
       "      <td>-0.331339</td>\n",
       "      <td>1.000000</td>\n",
       "      <td>-0.232625</td>\n",
       "      <td>-0.179191</td>\n",
       "      <td>0.091566</td>\n",
       "      <td>-0.084153</td>\n",
       "      <td>0.084153</td>\n",
       "      <td>0.032024</td>\n",
       "      <td>-0.013855</td>\n",
       "      <td>-0.027121</td>\n",
       "    </tr>\n",
       "    <tr>\n",
       "      <th>SibSp</th>\n",
       "      <td>-0.035322</td>\n",
       "      <td>0.083081</td>\n",
       "      <td>-0.232625</td>\n",
       "      <td>1.000000</td>\n",
       "      <td>0.414838</td>\n",
       "      <td>0.159651</td>\n",
       "      <td>0.114631</td>\n",
       "      <td>-0.114631</td>\n",
       "      <td>-0.059528</td>\n",
       "      <td>-0.026354</td>\n",
       "      <td>0.070941</td>\n",
       "    </tr>\n",
       "    <tr>\n",
       "      <th>Parch</th>\n",
       "      <td>0.081629</td>\n",
       "      <td>0.018443</td>\n",
       "      <td>-0.179191</td>\n",
       "      <td>0.414838</td>\n",
       "      <td>1.000000</td>\n",
       "      <td>0.216225</td>\n",
       "      <td>0.245489</td>\n",
       "      <td>-0.245489</td>\n",
       "      <td>-0.011069</td>\n",
       "      <td>-0.081228</td>\n",
       "      <td>0.063036</td>\n",
       "    </tr>\n",
       "    <tr>\n",
       "      <th>Fare</th>\n",
       "      <td>0.257307</td>\n",
       "      <td>-0.549500</td>\n",
       "      <td>0.091566</td>\n",
       "      <td>0.159651</td>\n",
       "      <td>0.216225</td>\n",
       "      <td>1.000000</td>\n",
       "      <td>0.182333</td>\n",
       "      <td>-0.182333</td>\n",
       "      <td>0.269335</td>\n",
       "      <td>-0.117216</td>\n",
       "      <td>-0.166603</td>\n",
       "    </tr>\n",
       "    <tr>\n",
       "      <th>Sex_female</th>\n",
       "      <td>0.543351</td>\n",
       "      <td>-0.131900</td>\n",
       "      <td>-0.084153</td>\n",
       "      <td>0.114631</td>\n",
       "      <td>0.245489</td>\n",
       "      <td>0.182333</td>\n",
       "      <td>1.000000</td>\n",
       "      <td>-1.000000</td>\n",
       "      <td>0.082853</td>\n",
       "      <td>0.074115</td>\n",
       "      <td>-0.125722</td>\n",
       "    </tr>\n",
       "    <tr>\n",
       "      <th>Sex_male</th>\n",
       "      <td>-0.543351</td>\n",
       "      <td>0.131900</td>\n",
       "      <td>0.084153</td>\n",
       "      <td>-0.114631</td>\n",
       "      <td>-0.245489</td>\n",
       "      <td>-0.182333</td>\n",
       "      <td>-1.000000</td>\n",
       "      <td>1.000000</td>\n",
       "      <td>-0.082853</td>\n",
       "      <td>-0.074115</td>\n",
       "      <td>0.125722</td>\n",
       "    </tr>\n",
       "    <tr>\n",
       "      <th>Embarked_C</th>\n",
       "      <td>0.168240</td>\n",
       "      <td>-0.243292</td>\n",
       "      <td>0.032024</td>\n",
       "      <td>-0.059528</td>\n",
       "      <td>-0.011069</td>\n",
       "      <td>0.269335</td>\n",
       "      <td>0.082853</td>\n",
       "      <td>-0.082853</td>\n",
       "      <td>1.000000</td>\n",
       "      <td>-0.148258</td>\n",
       "      <td>-0.778359</td>\n",
       "    </tr>\n",
       "    <tr>\n",
       "      <th>Embarked_Q</th>\n",
       "      <td>0.003650</td>\n",
       "      <td>0.221009</td>\n",
       "      <td>-0.013855</td>\n",
       "      <td>-0.026354</td>\n",
       "      <td>-0.081228</td>\n",
       "      <td>-0.117216</td>\n",
       "      <td>0.074115</td>\n",
       "      <td>-0.074115</td>\n",
       "      <td>-0.148258</td>\n",
       "      <td>1.000000</td>\n",
       "      <td>-0.496624</td>\n",
       "    </tr>\n",
       "    <tr>\n",
       "      <th>Embarked_S</th>\n",
       "      <td>-0.155660</td>\n",
       "      <td>0.081720</td>\n",
       "      <td>-0.027121</td>\n",
       "      <td>0.070941</td>\n",
       "      <td>0.063036</td>\n",
       "      <td>-0.166603</td>\n",
       "      <td>-0.125722</td>\n",
       "      <td>0.125722</td>\n",
       "      <td>-0.778359</td>\n",
       "      <td>-0.496624</td>\n",
       "      <td>1.000000</td>\n",
       "    </tr>\n",
       "  </tbody>\n",
       "</table>\n",
       "</div>"
      ],
      "text/plain": [
       "            Survived    Pclass       Age     SibSp     Parch      Fare  \\\n",
       "Survived    1.000000 -0.338481 -0.069809 -0.035322  0.081629  0.257307   \n",
       "Pclass     -0.338481  1.000000 -0.331339  0.083081  0.018443 -0.549500   \n",
       "Age        -0.069809 -0.331339  1.000000 -0.232625 -0.179191  0.091566   \n",
       "SibSp      -0.035322  0.083081 -0.232625  1.000000  0.414838  0.159651   \n",
       "Parch       0.081629  0.018443 -0.179191  0.414838  1.000000  0.216225   \n",
       "Fare        0.257307 -0.549500  0.091566  0.159651  0.216225  1.000000   \n",
       "Sex_female  0.543351 -0.131900 -0.084153  0.114631  0.245489  0.182333   \n",
       "Sex_male   -0.543351  0.131900  0.084153 -0.114631 -0.245489 -0.182333   \n",
       "Embarked_C  0.168240 -0.243292  0.032024 -0.059528 -0.011069  0.269335   \n",
       "Embarked_Q  0.003650  0.221009 -0.013855 -0.026354 -0.081228 -0.117216   \n",
       "Embarked_S -0.155660  0.081720 -0.027121  0.070941  0.063036 -0.166603   \n",
       "\n",
       "            Sex_female  Sex_male  Embarked_C  Embarked_Q  Embarked_S  \n",
       "Survived      0.543351 -0.543351    0.168240    0.003650   -0.155660  \n",
       "Pclass       -0.131900  0.131900   -0.243292    0.221009    0.081720  \n",
       "Age          -0.084153  0.084153    0.032024   -0.013855   -0.027121  \n",
       "SibSp         0.114631 -0.114631   -0.059528   -0.026354    0.070941  \n",
       "Parch         0.245489 -0.245489   -0.011069   -0.081228    0.063036  \n",
       "Fare          0.182333 -0.182333    0.269335   -0.117216   -0.166603  \n",
       "Sex_female    1.000000 -1.000000    0.082853    0.074115   -0.125722  \n",
       "Sex_male     -1.000000  1.000000   -0.082853   -0.074115    0.125722  \n",
       "Embarked_C    0.082853 -0.082853    1.000000   -0.148258   -0.778359  \n",
       "Embarked_Q    0.074115 -0.074115   -0.148258    1.000000   -0.496624  \n",
       "Embarked_S   -0.125722  0.125722   -0.778359   -0.496624    1.000000  "
      ]
     },
     "execution_count": 20,
     "metadata": {},
     "output_type": "execute_result"
    }
   ],
   "source": [
    "train.corr()"
   ]
  },
  {
   "cell_type": "markdown",
   "id": "b85d21a9",
   "metadata": {},
   "source": [
    "There are a few pretty highly correlated variables with Survived, however those with relative importance have been looked at already. There is a  notably high 0.549 correlation between Parch and SibSp, however, those two variables based off logic do not do not seem to have any influence on survival rate for any passenger. We will now begin to try to create a prediction model."
   ]
  },
  {
   "cell_type": "markdown",
   "id": "262b1658",
   "metadata": {},
   "source": [
    "## Modeling"
   ]
  },
  {
   "cell_type": "markdown",
   "id": "f79c0e8a",
   "metadata": {},
   "source": [
    "I want to first start with a KNN model. Since this is the titanic, it is likely that those who survived will have similar characteristics with each other. This is because when discussing the survivors of the titanic, it is generally talked about that those with specific characteristics were allowed on lifeboats more than others, i.e. women and children being saved more often than middle-aged men. Thus a KNN Classification model seems as though it would be an interesting starting model."
   ]
  },
  {
   "cell_type": "code",
   "execution_count": 101,
   "id": "d4f010ae",
   "metadata": {},
   "outputs": [],
   "source": [
    "# Beginning with creating Xtrain, ytrain, Xtest, ytest\n",
    "split_train, split_test = train_test_split(train, test_size = 0.2, random_state = 1)\n",
    "Xtrain = split_train.drop(columns = 'Survived')\n",
    "ytrain = split_train.Survived\n",
    "Xtest = split_test.drop(columns = 'Survived')\n",
    "ytest = split_test.Survived"
   ]
  },
  {
   "cell_type": "code",
   "execution_count": 102,
   "id": "0cf26ea1",
   "metadata": {},
   "outputs": [],
   "source": [
    "# Scaling data for KNN\n",
    "sc = StandardScaler()\n",
    "\n",
    "sc.fit(Xtrain)\n",
    "Xtrain_scaled = sc.transform(Xtrain)\n",
    "Xtest_scaled = sc.transform(Xtest)"
   ]
  },
  {
   "cell_type": "code",
   "execution_count": 103,
   "id": "7e83cf91",
   "metadata": {},
   "outputs": [],
   "source": [
    "# Basic model\n",
    "KNN_model = KNeighborsClassifier()\n",
    "\n",
    "KNN_model.fit(Xtrain_scaled, ytrain)\n",
    "ypred = KNN_model.predict(Xtrain_scaled)"
   ]
  },
  {
   "cell_type": "code",
   "execution_count": 109,
   "id": "e67b9bb9",
   "metadata": {},
   "outputs": [
    {
     "name": "stdout",
     "output_type": "stream",
     "text": [
      "Accuracy:  85.67415730337079\n",
      "ROC-AUC:  0.9342771069171834\n",
      "Precision:  0.8523206751054853\n",
      "Recall:  0.7509293680297398\n"
     ]
    },
    {
     "data": {
      "text/plain": [
       "[Text(0.5, 1.0, 'Training Accuracy')]"
      ]
     },
     "execution_count": 109,
     "metadata": {},
     "output_type": "execute_result"
    },
    {
     "data": {
      "image/png": "[encoded data removed]",
      "text/plain": [
       "<Figure size 1000x500 with 2 Axes>"
      ]
     },
     "metadata": {},
     "output_type": "display_data"
    }
   ],
   "source": [
    "# Performance metrics computation \n",
    "plt.rcParams['figure.figsize'] = (10, 5)\n",
    "#Computing the accuracy\n",
    "print(\"Accuracy: \",accuracy_score(ypred, ytrain)*100)  \n",
    "\n",
    "#Computing the ROC-AUC\n",
    "y_pred_prob = KNN_model.predict_proba(Xtrain_scaled)[:,1]\n",
    "fpr, tpr, auc_thresholds = roc_curve(ytrain, y_pred_prob)\n",
    "print(\"ROC-AUC: \",auc(fpr, tpr))# AUC of ROC\n",
    "\n",
    "#Computing the precision and recall\n",
    "print(\"Precision: \", precision_score(ytrain, ypred))\n",
    "print(\"Recall: \", recall_score(ytrain, ypred))\n",
    "\n",
    "#Confusion matrix\n",
    "cm = pd.DataFrame(confusion_matrix(ytrain, ypred), columns=['Predicted 0', 'Predicted 1'], \n",
    "            index = ['Actual 0', 'Actual 1'])\n",
    "g = sns.heatmap(cm, annot=True, cmap='Blues', fmt='g');\n",
    "g.set(title = 'Training Accuracy')"
   ]
  },
  {
   "cell_type": "code",
   "execution_count": 110,
   "id": "f93f64cc",
   "metadata": {},
   "outputs": [
    {
     "name": "stdout",
     "output_type": "stream",
     "text": [
      "Accuracy:  75.97765363128491\n",
      "ROC-AUC:  0.8475704316360817\n",
      "Precision:  0.7884615384615384\n",
      "Recall:  0.5616438356164384\n"
     ]
    },
    {
     "data": {
      "text/plain": [
       "[Text(0.5, 1.0, 'Test Accuracy')]"
      ]
     },
     "execution_count": 110,
     "metadata": {},
     "output_type": "execute_result"
    },
    {
     "data": {
      "image/png": "[encoded data removed]",
      "text/plain": [
       "<Figure size 1000x500 with 2 Axes>"
      ]
     },
     "metadata": {},
     "output_type": "display_data"
    }
   ],
   "source": [
    "# Performance metrics computation \n",
    "ypred = KNN_model.predict(Xtest_scaled)\n",
    "#Computing the accuracy\n",
    "print(\"Accuracy: \",accuracy_score(ypred, ytest)*100)  \n",
    "\n",
    "#Computing the ROC-AUC\n",
    "y_pred_prob = KNN_model.predict_proba(Xtest_scaled)[:,1]\n",
    "fpr, tpr, auc_thresholds = roc_curve(ytest, y_pred_prob)\n",
    "print(\"ROC-AUC: \",auc(fpr, tpr))# AUC of ROC\n",
    "\n",
    "#Computing the precision and recall\n",
    "print(\"Precision: \", precision_score(ytest, ypred))\n",
    "print(\"Recall: \", recall_score(ytest, ypred))\n",
    "\n",
    "#Confusion matrix\n",
    "cm = pd.DataFrame(confusion_matrix(ytest, ypred), columns=['Predicted 0', 'Predicted 1'], \n",
    "            index = ['Actual 0', 'Actual 1'])\n",
    "g = sns.heatmap(cm, annot=True, cmap='Blues', fmt='g');\n",
    "g.set(title = 'Test Accuracy')"
   ]
  },
  {
   "cell_type": "markdown",
   "id": "10442e83",
   "metadata": {},
   "source": [
    "Not the greatest accuracy, let's try it while fitting the model to find the optimal hyperparameters"
   ]
  },
  {
   "cell_type": "code",
   "execution_count": 111,
   "id": "efe3b721",
   "metadata": {},
   "outputs": [
    {
     "name": "stdout",
     "output_type": "stream",
     "text": [
      "The total time taken is:  0.5977059523264567  minutes\n"
     ]
    }
   ],
   "source": [
    "kcv = KFold(n_splits = 5, shuffle = True, random_state = 1)\n",
    "\n",
    "start = time.time()\n",
    "Ks = np.arange(500) + 1\n",
    "\n",
    "cv_scores = []\n",
    "\n",
    "for K in Ks:\n",
    "    model = KNeighborsClassifier(n_neighbors = K, weights='distance')\n",
    "    score = cross_val_score(model, Xtrain_scaled, ytrain, cv=5, scoring = 'recall')\n",
    "    cv_scores.append(score)\n",
    "    \n",
    "end = time.time()\n",
    "print('The total time taken is: ', (end - start)/60, ' minutes')"
   ]
  },
  {
   "cell_type": "code",
   "execution_count": 112,
   "id": "01c0e8d8",
   "metadata": {},
   "outputs": [],
   "source": [
    "avg_cv_scores = np.array(cv_scores).mean(axis = 1)"
   ]
  },
  {
   "cell_type": "code",
   "execution_count": 113,
   "id": "d53d6c75",
   "metadata": {},
   "outputs": [
    {
     "data": {
      "image/png": "[encoded data removed]",
      "text/plain": [
       "<Figure size 1000x500 with 1 Axes>"
      ]
     },
     "metadata": {},
     "output_type": "display_data"
    }
   ],
   "source": [
    "sns.lineplot(x = range(500), y = avg_cv_scores);\n",
    "plt.xlabel('K')\n",
    "plt.ylabel('5-fold Cross-validated Recall');"
   ]
  },
  {
   "cell_type": "code",
   "execution_count": 114,
   "id": "f18c7814",
   "metadata": {},
   "outputs": [
    {
     "name": "stdout",
     "output_type": "stream",
     "text": [
      "0.73235499650594\n",
      "13\n"
     ]
    }
   ],
   "source": [
    "# Best K value is 13\n",
    "print(avg_cv_scores.max())\n",
    "print(avg_cv_scores.argmax() + 1)"
   ]
  },
  {
   "cell_type": "code",
   "execution_count": 115,
   "id": "02ebe990",
   "metadata": {},
   "outputs": [
    {
     "data": {
      "text/html": [
       "<style>#sk-container-id-8 {color: black;background-color: white;}#sk-container-id-8 pre{padding: 0;}#sk-container-id-8 div.sk-toggleable {background-color: white;}#sk-container-id-8 label.sk-toggleable__label {cursor: pointer;display: block;width: 100%;margin-bottom: 0;padding: 0.3em;box-sizing: border-box;text-align: center;}#sk-container-id-8 label.sk-toggleable__label-arrow:before {content: \"▸\";float: left;margin-right: 0.25em;color: #696969;}#sk-container-id-8 label.sk-toggleable__label-arrow:hover:before {color: black;}#sk-container-id-8 div.sk-estimator:hover label.sk-toggleable__label-arrow:before {color: black;}#sk-container-id-8 div.sk-toggleable__content {max-height: 0;max-width: 0;overflow: hidden;text-align: left;background-color: #f0f8ff;}#sk-container-id-8 div.sk-toggleable__content pre {margin: 0.2em;color: black;border-radius: 0.25em;background-color: #f0f8ff;}#sk-container-id-8 input.sk-toggleable__control:checked~div.sk-toggleable__content {max-height: 200px;max-width: 100%;overflow: auto;}#sk-container-id-8 input.sk-toggleable__control:checked~label.sk-toggleable__label-arrow:before {content: \"▾\";}#sk-container-id-8 div.sk-estimator input.sk-toggleable__control:checked~label.sk-toggleable__label {background-color: #d4ebff;}#sk-container-id-8 div.sk-label input.sk-toggleable__control:checked~label.sk-toggleable__label {background-color: #d4ebff;}#sk-container-id-8 input.sk-hidden--visually {border: 0;clip: rect(1px 1px 1px 1px);clip: rect(1px, 1px, 1px, 1px);height: 1px;margin: -1px;overflow: hidden;padding: 0;position: absolute;width: 1px;}#sk-container-id-8 div.sk-estimator {font-family: monospace;background-color: #f0f8ff;border: 1px dotted black;border-radius: 0.25em;box-sizing: border-box;margin-bottom: 0.5em;}#sk-container-id-8 div.sk-estimator:hover {background-color: #d4ebff;}#sk-container-id-8 div.sk-parallel-item::after {content: \"\";width: 100%;border-bottom: 1px solid gray;flex-grow: 1;}#sk-container-id-8 div.sk-label:hover label.sk-toggleable__label {background-color: #d4ebff;}#sk-container-id-8 div.sk-serial::before {content: \"\";position: absolute;border-left: 1px solid gray;box-sizing: border-box;top: 0;bottom: 0;left: 50%;z-index: 0;}#sk-container-id-8 div.sk-serial {display: flex;flex-direction: column;align-items: center;background-color: white;padding-right: 0.2em;padding-left: 0.2em;position: relative;}#sk-container-id-8 div.sk-item {position: relative;z-index: 1;}#sk-container-id-8 div.sk-parallel {display: flex;align-items: stretch;justify-content: center;background-color: white;position: relative;}#sk-container-id-8 div.sk-item::before, #sk-container-id-8 div.sk-parallel-item::before {content: \"\";position: absolute;border-left: 1px solid gray;box-sizing: border-box;top: 0;bottom: 0;left: 50%;z-index: -1;}#sk-container-id-8 div.sk-parallel-item {display: flex;flex-direction: column;z-index: 1;position: relative;background-color: white;}#sk-container-id-8 div.sk-parallel-item:first-child::after {align-self: flex-end;width: 50%;}#sk-container-id-8 div.sk-parallel-item:last-child::after {align-self: flex-start;width: 50%;}#sk-container-id-8 div.sk-parallel-item:only-child::after {width: 0;}#sk-container-id-8 div.sk-dashed-wrapped {border: 1px dashed gray;margin: 0 0.4em 0.5em 0.4em;box-sizing: border-box;padding-bottom: 0.4em;background-color: white;}#sk-container-id-8 div.sk-label label {font-family: monospace;font-weight: bold;display: inline-block;line-height: 1.2em;}#sk-container-id-8 div.sk-label-container {text-align: center;}#sk-container-id-8 div.sk-container {/* jupyter's `normalize.less` sets `[hidden] { display: none; }` but bootstrap.min.css set `[hidden] { display: none !important; }` so we also need the `!important` here to be able to override the default hidden behavior on the sphinx rendered scikit-learn.org. See: https://github.com/scikit-learn/scikit-learn/issues/21755 */display: inline-block !important;position: relative;}#sk-container-id-8 div.sk-text-repr-fallback {display: none;}</style><div id=\"sk-container-id-8\" class=\"sk-top-container\"><div class=\"sk-text-repr-fallback\"><pre>KNeighborsClassifier(n_neighbors=13)</pre><b>In a Jupyter environment, please rerun this cell to show the HTML representation or trust the notebook. <br />On GitHub, the HTML representation is unable to render, please try loading this page with nbviewer.org.</b></div><div class=\"sk-container\" hidden><div class=\"sk-item\"><div class=\"sk-estimator sk-toggleable\"><input class=\"sk-toggleable__control sk-hidden--visually\" id=\"sk-estimator-id-8\" type=\"checkbox\" checked><label for=\"sk-estimator-id-8\" class=\"sk-toggleable__label sk-toggleable__label-arrow\">KNeighborsClassifier</label><div class=\"sk-toggleable__content\"><pre>KNeighborsClassifier(n_neighbors=13)</pre></div></div></div></div></div>"
      ],
      "text/plain": [
       "KNeighborsClassifier(n_neighbors=13)"
      ]
     },
     "execution_count": 115,
     "metadata": {},
     "output_type": "execute_result"
    }
   ],
   "source": [
    "KNN_model = KNeighborsClassifier(n_neighbors = 13)\n",
    "KNN_model.fit(Xtrain_scaled, ytrain)"
   ]
  },
  {
   "cell_type": "code",
   "execution_count": 116,
   "id": "32d164b4",
   "metadata": {},
   "outputs": [
    {
     "name": "stdout",
     "output_type": "stream",
     "text": [
      "Accuracy:  79.3296089385475\n",
      "ROC-AUC:  0.8449857844404238\n",
      "Precision:  0.86\n",
      "Recall:  0.589041095890411\n"
     ]
    },
    {
     "data": {
      "text/plain": [
       "[Text(0.5, 1.0, 'Test Accuracy')]"
      ]
     },
     "execution_count": 116,
     "metadata": {},
     "output_type": "execute_result"
    },
    {
     "data": {
      "image/png": "[encoded data removed]",
      "text/plain": [
       "<Figure size 1000x500 with 2 Axes>"
      ]
     },
     "metadata": {},
     "output_type": "display_data"
    }
   ],
   "source": [
    "# Performance metrics computation \n",
    "ypred = KNN_model.predict(Xtest_scaled)\n",
    "#Computing the accuracy\n",
    "print(\"Accuracy: \",accuracy_score(ypred, ytest)*100)  \n",
    "\n",
    "#Computing the ROC-AUC\n",
    "y_pred_prob = KNN_model.predict_proba(Xtest_scaled)[:,1]\n",
    "fpr, tpr, auc_thresholds = roc_curve(ytest, y_pred_prob)\n",
    "print(\"ROC-AUC: \",auc(fpr, tpr))# AUC of ROC\n",
    "\n",
    "#Computing the precision and recall\n",
    "print(\"Precision: \", precision_score(ytest, ypred))\n",
    "print(\"Recall: \", recall_score(ytest, ypred))\n",
    "\n",
    "#Confusion matrix\n",
    "cm = pd.DataFrame(confusion_matrix(ytest, ypred), columns=['Predicted 0', 'Predicted 1'], \n",
    "            index = ['Actual 0', 'Actual 1'])\n",
    "g = sns.heatmap(cm, annot=True, cmap='Blues', fmt='g');\n",
    "g.set(title = 'Test Accuracy')"
   ]
  },
  {
   "cell_type": "markdown",
   "id": "21ec088a",
   "metadata": {},
   "source": [
    "Overall I would say that I am pretty happy with these results. Overall tuning resulted in a model that has roughly 80% accuracy, with a respectable ROC-AUC. There is a pretty high amount of type II error, however, meaning that we are predicting that a lot of people actually died when they really survived. This is better than having type I error, however, as it would be better to predict a death and be proven wrong then predict survival and be disappointed. I do want to try a different type of model, this time through boosting. Boosting will be my final model, although I could further work on this by trying ensemble modeling, or random forest which I feel is the route most people would take on this project."
   ]
  },
  {
   "cell_type": "markdown",
   "id": "d1717f67",
   "metadata": {},
   "source": [
    "We will be using Catboosting, mostly due to how fast it is, considering my potato laptop, as well as the reduction in need for hyperparameter tuning. It may not be the most accurate model, however, due to the factors above Catboost will be the model of choice."
   ]
  },
  {
   "cell_type": "code",
   "execution_count": 119,
   "id": "c418c8c4",
   "metadata": {},
   "outputs": [
    {
     "data": {
      "text/plain": [
       "<catboost.core.CatBoostClassifier at 0x265fdabed60>"
      ]
     },
     "execution_count": 119,
     "metadata": {},
     "output_type": "execute_result"
    }
   ],
   "source": [
    "from catboost import CatBoostClassifier\n",
    "\n",
    "# Will be attempting an unfitted model first\n",
    "clf = CatBoostClassifier(verbose = False)\n",
    "clf.fit(Xtrain, ytrain)"
   ]
  },
  {
   "cell_type": "code",
   "execution_count": 120,
   "id": "eb25e4f5",
   "metadata": {},
   "outputs": [
    {
     "name": "stdout",
     "output_type": "stream",
     "text": [
      "Accuracy:  91.15168539325843\n",
      "ROC-AUC:  0.960622487769265\n",
      "Precision:  0.9517543859649122\n",
      "Recall:  0.8066914498141264\n"
     ]
    },
    {
     "data": {
      "image/png": "[encoded data removed]",
      "text/plain": [
       "<Figure size 1000x500 with 2 Axes>"
      ]
     },
     "metadata": {},
     "output_type": "display_data"
    }
   ],
   "source": [
    "#Computing the accuracy\n",
    "y_pred = clf.predict(Xtrain)\n",
    "print(\"Accuracy: \",accuracy_score(y_pred, ytrain)*100)  \n",
    "\n",
    "#Computing the ROC-AUC\n",
    "y_pred_prob = clf.predict_proba(Xtrain)[:,1]\n",
    "fpr, tpr, auc_thresholds = roc_curve(ytrain, y_pred_prob)\n",
    "print(\"ROC-AUC: \",auc(fpr, tpr))# AUC of ROC\n",
    "\n",
    "#Computing the precision and recall\n",
    "print(\"Precision: \", precision_score(ytrain, y_pred))\n",
    "print(\"Recall: \", recall_score(ytrain, y_pred))\n",
    "\n",
    "#Confusion matrix\n",
    "cm = pd.DataFrame(confusion_matrix(ytrain, y_pred), columns=['Predicted 0', 'Predicted 1'], \n",
    "            index = ['Actual 0', 'Actual 1'])\n",
    "sns.heatmap(cm, annot=True, cmap='Blues', fmt='g');"
   ]
  },
  {
   "cell_type": "code",
   "execution_count": 122,
   "id": "70c32f4a",
   "metadata": {},
   "outputs": [
    {
     "name": "stdout",
     "output_type": "stream",
     "text": [
      "Accuracy:  78.2122905027933\n",
      "ROC-AUC:  0.8513181700697855\n",
      "Precision:  0.84\n",
      "Recall:  0.5753424657534246\n"
     ]
    },
    {
     "data": {
      "image/png": "[encoded data removed]",
      "text/plain": [
       "<Figure size 1000x500 with 2 Axes>"
      ]
     },
     "metadata": {},
     "output_type": "display_data"
    }
   ],
   "source": [
    "#Computing the accuracy\n",
    "y_pred = clf.predict(Xtest)\n",
    "print(\"Accuracy: \",accuracy_score(y_pred, ytest)*100)  \n",
    "\n",
    "#Computing the ROC-AUC\n",
    "y_pred_prob = clf.predict_proba(Xtest)[:,1]\n",
    "fpr, tpr, auc_thresholds = roc_curve(ytest, y_pred_prob)\n",
    "print(\"ROC-AUC: \",auc(fpr, tpr))# AUC of ROC\n",
    "\n",
    "#Computing the precision and recall\n",
    "print(\"Precision: \", precision_score(ytest, y_pred))\n",
    "print(\"Recall: \", recall_score(ytest, y_pred))\n",
    "\n",
    "#Confusion matrix\n",
    "cm = pd.DataFrame(confusion_matrix(ytest, y_pred), columns=['Predicted 0', 'Predicted 1'], \n",
    "            index = ['Actual 0', 'Actual 1'])\n",
    "sns.heatmap(cm, annot=True, cmap='Blues', fmt='g');"
   ]
  },
  {
   "cell_type": "markdown",
   "id": "c53ea59e",
   "metadata": {},
   "source": [
    "Evidently, Catboost unfitted nearly blows KNNClassifier out of the water. However, it would be good to tune Catboost, as it is more likely than not that overfitting is occurring, resulting in a lower than would be expected accuracy and recall in the test set. Thus, we will now tune Catboost according to various hyperparameters."
   ]
  },
  {
   "cell_type": "code",
   "execution_count": 136,
   "id": "25d4af0f",
   "metadata": {},
   "outputs": [
    {
     "name": "stdout",
     "output_type": "stream",
     "text": [
      "Fitting 5 folds for each of 200 candidates, totalling 1000 fits\n",
      "Optimal parameter values = {'subsample': 0.5, 'reg_lambda': 10, 'num_leaves': 8, 'n_estimators': 500, 'max_depth': 4, 'learning_rate': 0.01, 'colsample_bylevel': 0.5}\n",
      "Optimal cross validation accuracy =  0.8412587412587413\n",
      "Time taken =  10  minutes\n"
     ]
    }
   ],
   "source": [
    "start_time = time.time()\n",
    "param_grid = {'n_estimators':[25,100,250, 500],\n",
    "                'max_depth': [1, 2, 4, 8],\n",
    "              'num_leaves': [1, 2, 4, 8],\n",
    "              'learning_rate': [0.001,0.01,0.1],\n",
    "               'subsample': [0.1,0.25,0.5, 1],\n",
    "               'reg_lambda':[0.1, 1, 10],\n",
    "                'colsample_bylevel': [0.25, 0.5, 1]\n",
    "             }\n",
    "\n",
    "cv = StratifiedKFold(n_splits = 5, shuffle = True, random_state = 1)\n",
    "optimalparams = RandomizedSearchCV(estimator = CatBoostClassifier(grow_policy = 'Lossguide', random_state = 1, verbose = False),\n",
    "                            param_distributions = param_grid, n_iter = 200, random_state = 1, verbose = 1,\n",
    "                            scoring = 'accuracy', cv = cv\n",
    "                            )\n",
    "\n",
    "optimalparams.fit(Xtrain, ytrain)\n",
    "print(\"Optimal parameter values =\", optimalparams.best_params_)\n",
    "print(\"Optimal cross validation accuracy = \",optimalparams.best_score_)\n",
    "print(\"Time taken = \", round((time.time()-start_time)/60), \" minutes\")"
   ]
  },
  {
   "cell_type": "code",
   "execution_count": 138,
   "id": "5ea06f9d",
   "metadata": {},
   "outputs": [
    {
     "data": {
      "text/plain": [
       "<catboost.core.CatBoostClassifier at 0x26581295f10>"
      ]
     },
     "execution_count": 138,
     "metadata": {},
     "output_type": "execute_result"
    }
   ],
   "source": [
    "#Fitted model\n",
    "clf = CatBoostClassifier(subsample = 0.5, grow_policy = 'Lossguide', reg_lambda = 10, num_leaves = 8, n_estimators = 500, max_depth = 4, learning_rate = 0.01, colsample_bylevel = 0.5, verbose = False)\n",
    "clf.fit(Xtrain, ytrain)"
   ]
  },
  {
   "cell_type": "code",
   "execution_count": 139,
   "id": "46e80540",
   "metadata": {},
   "outputs": [
    {
     "name": "stdout",
     "output_type": "stream",
     "text": [
      "Accuracy:  78.2122905027933\n",
      "ROC-AUC:  0.8467950374773843\n",
      "Precision:  0.8695652173913043\n",
      "Recall:  0.547945205479452\n"
     ]
    },
    {
     "data": {
      "image/png": "[encoded data removed]",
      "text/plain": [
       "<Figure size 1000x500 with 2 Axes>"
      ]
     },
     "metadata": {},
     "output_type": "display_data"
    }
   ],
   "source": [
    "#Computing the accuracy\n",
    "y_pred = clf.predict(Xtest)\n",
    "print(\"Accuracy: \",accuracy_score(y_pred, ytest)*100)  \n",
    "\n",
    "#Computing the ROC-AUC\n",
    "y_pred_prob = clf.predict_proba(Xtest)[:,1]\n",
    "fpr, tpr, auc_thresholds = roc_curve(ytest, y_pred_prob)\n",
    "print(\"ROC-AUC: \",auc(fpr, tpr))# AUC of ROC\n",
    "\n",
    "#Computing the precision and recall\n",
    "print(\"Precision: \", precision_score(ytest, y_pred))\n",
    "print(\"Recall: \", recall_score(ytest, y_pred))\n",
    "\n",
    "#Confusion matrix\n",
    "cm = pd.DataFrame(confusion_matrix(ytest, y_pred), columns=['Predicted 0', 'Predicted 1'], \n",
    "            index = ['Actual 0', 'Actual 1'])\n",
    "sns.heatmap(cm, annot=True, cmap='Blues', fmt='g');"
   ]
  },
  {
   "cell_type": "markdown",
   "id": "42fd54db",
   "metadata": {},
   "source": [
    "CatBoost seems like a bust, however this is likely due to a lack of more tuning rather than anything lacking with the model itself. Ultimately I will end this attempt here. I will now do a simple ensemble model for the KNN and Catboost model and then submit whichever model had the highest test accuracy."
   ]
  },
  {
   "cell_type": "code",
   "execution_count": 143,
   "id": "5a8db0d0",
   "metadata": {},
   "outputs": [
    {
     "data": {
      "text/html": [
       "<style>#sk-container-id-10 {color: black;background-color: white;}#sk-container-id-10 pre{padding: 0;}#sk-container-id-10 div.sk-toggleable {background-color: white;}#sk-container-id-10 label.sk-toggleable__label {cursor: pointer;display: block;width: 100%;margin-bottom: 0;padding: 0.3em;box-sizing: border-box;text-align: center;}#sk-container-id-10 label.sk-toggleable__label-arrow:before {content: \"▸\";float: left;margin-right: 0.25em;color: #696969;}#sk-container-id-10 label.sk-toggleable__label-arrow:hover:before {color: black;}#sk-container-id-10 div.sk-estimator:hover label.sk-toggleable__label-arrow:before {color: black;}#sk-container-id-10 div.sk-toggleable__content {max-height: 0;max-width: 0;overflow: hidden;text-align: left;background-color: #f0f8ff;}#sk-container-id-10 div.sk-toggleable__content pre {margin: 0.2em;color: black;border-radius: 0.25em;background-color: #f0f8ff;}#sk-container-id-10 input.sk-toggleable__control:checked~div.sk-toggleable__content {max-height: 200px;max-width: 100%;overflow: auto;}#sk-container-id-10 input.sk-toggleable__control:checked~label.sk-toggleable__label-arrow:before {content: \"▾\";}#sk-container-id-10 div.sk-estimator input.sk-toggleable__control:checked~label.sk-toggleable__label {background-color: #d4ebff;}#sk-container-id-10 div.sk-label input.sk-toggleable__control:checked~label.sk-toggleable__label {background-color: #d4ebff;}#sk-container-id-10 input.sk-hidden--visually {border: 0;clip: rect(1px 1px 1px 1px);clip: rect(1px, 1px, 1px, 1px);height: 1px;margin: -1px;overflow: hidden;padding: 0;position: absolute;width: 1px;}#sk-container-id-10 div.sk-estimator {font-family: monospace;background-color: #f0f8ff;border: 1px dotted black;border-radius: 0.25em;box-sizing: border-box;margin-bottom: 0.5em;}#sk-container-id-10 div.sk-estimator:hover {background-color: #d4ebff;}#sk-container-id-10 div.sk-parallel-item::after {content: \"\";width: 100%;border-bottom: 1px solid gray;flex-grow: 1;}#sk-container-id-10 div.sk-label:hover label.sk-toggleable__label {background-color: #d4ebff;}#sk-container-id-10 div.sk-serial::before {content: \"\";position: absolute;border-left: 1px solid gray;box-sizing: border-box;top: 0;bottom: 0;left: 50%;z-index: 0;}#sk-container-id-10 div.sk-serial {display: flex;flex-direction: column;align-items: center;background-color: white;padding-right: 0.2em;padding-left: 0.2em;position: relative;}#sk-container-id-10 div.sk-item {position: relative;z-index: 1;}#sk-container-id-10 div.sk-parallel {display: flex;align-items: stretch;justify-content: center;background-color: white;position: relative;}#sk-container-id-10 div.sk-item::before, #sk-container-id-10 div.sk-parallel-item::before {content: \"\";position: absolute;border-left: 1px solid gray;box-sizing: border-box;top: 0;bottom: 0;left: 50%;z-index: -1;}#sk-container-id-10 div.sk-parallel-item {display: flex;flex-direction: column;z-index: 1;position: relative;background-color: white;}#sk-container-id-10 div.sk-parallel-item:first-child::after {align-self: flex-end;width: 50%;}#sk-container-id-10 div.sk-parallel-item:last-child::after {align-self: flex-start;width: 50%;}#sk-container-id-10 div.sk-parallel-item:only-child::after {width: 0;}#sk-container-id-10 div.sk-dashed-wrapped {border: 1px dashed gray;margin: 0 0.4em 0.5em 0.4em;box-sizing: border-box;padding-bottom: 0.4em;background-color: white;}#sk-container-id-10 div.sk-label label {font-family: monospace;font-weight: bold;display: inline-block;line-height: 1.2em;}#sk-container-id-10 div.sk-label-container {text-align: center;}#sk-container-id-10 div.sk-container {/* jupyter's `normalize.less` sets `[hidden] { display: none; }` but bootstrap.min.css set `[hidden] { display: none !important; }` so we also need the `!important` here to be able to override the default hidden behavior on the sphinx rendered scikit-learn.org. See: https://github.com/scikit-learn/scikit-learn/issues/21755 */display: inline-block !important;position: relative;}#sk-container-id-10 div.sk-text-repr-fallback {display: none;}</style><div id=\"sk-container-id-10\" class=\"sk-top-container\"><div class=\"sk-text-repr-fallback\"><pre>VotingClassifier(estimators=[(&#x27;clf&#x27;,\n",
       "                              &lt;catboost.core.CatBoostClassifier object at 0x0000026581295F10&gt;),\n",
       "                             (&#x27;KNN&#x27;, KNeighborsClassifier(n_neighbors=13))],\n",
       "                 voting=&#x27;soft&#x27;)</pre><b>In a Jupyter environment, please rerun this cell to show the HTML representation or trust the notebook. <br />On GitHub, the HTML representation is unable to render, please try loading this page with nbviewer.org.</b></div><div class=\"sk-container\" hidden><div class=\"sk-item sk-dashed-wrapped\"><div class=\"sk-label-container\"><div class=\"sk-label sk-toggleable\"><input class=\"sk-toggleable__control sk-hidden--visually\" id=\"sk-estimator-id-10\" type=\"checkbox\" ><label for=\"sk-estimator-id-10\" class=\"sk-toggleable__label sk-toggleable__label-arrow\">VotingClassifier</label><div class=\"sk-toggleable__content\"><pre>VotingClassifier(estimators=[(&#x27;clf&#x27;,\n",
       "                              &lt;catboost.core.CatBoostClassifier object at 0x0000026581295F10&gt;),\n",
       "                             (&#x27;KNN&#x27;, KNeighborsClassifier(n_neighbors=13))],\n",
       "                 voting=&#x27;soft&#x27;)</pre></div></div></div><div class=\"sk-parallel\"><div class=\"sk-parallel-item\"><div class=\"sk-item\"><div class=\"sk-label-container\"><div class=\"sk-label sk-toggleable\"><label>clf</label></div></div><div class=\"sk-serial\"><div class=\"sk-item\"><div class=\"sk-estimator sk-toggleable\"><input class=\"sk-toggleable__control sk-hidden--visually\" id=\"sk-estimator-id-11\" type=\"checkbox\" ><label for=\"sk-estimator-id-11\" class=\"sk-toggleable__label sk-toggleable__label-arrow\">CatBoostClassifier</label><div class=\"sk-toggleable__content\"><pre>&lt;catboost.core.CatBoostClassifier object at 0x0000026581295F10&gt;</pre></div></div></div></div></div></div><div class=\"sk-parallel-item\"><div class=\"sk-item\"><div class=\"sk-label-container\"><div class=\"sk-label sk-toggleable\"><label>KNN</label></div></div><div class=\"sk-serial\"><div class=\"sk-item\"><div class=\"sk-estimator sk-toggleable\"><input class=\"sk-toggleable__control sk-hidden--visually\" id=\"sk-estimator-id-12\" type=\"checkbox\" ><label for=\"sk-estimator-id-12\" class=\"sk-toggleable__label sk-toggleable__label-arrow\">KNeighborsClassifier</label><div class=\"sk-toggleable__content\"><pre>KNeighborsClassifier(n_neighbors=13)</pre></div></div></div></div></div></div></div></div></div></div>"
      ],
      "text/plain": [
       "VotingClassifier(estimators=[('clf',\n",
       "                              <catboost.core.CatBoostClassifier object at 0x0000026581295F10>),\n",
       "                             ('KNN', KNeighborsClassifier(n_neighbors=13))],\n",
       "                 voting='soft')"
      ]
     },
     "execution_count": 143,
     "metadata": {},
     "output_type": "execute_result"
    }
   ],
   "source": [
    "from sklearn.ensemble import VotingClassifier\n",
    "ensemble_model = VotingClassifier(estimators=[('clf',clf),('KNN',KNN_model)],\n",
    "                                 voting='soft')\n",
    "ensemble_model.fit(Xtrain,ytrain)"
   ]
  },
  {
   "cell_type": "code",
   "execution_count": 144,
   "id": "dfee5b24",
   "metadata": {},
   "outputs": [
    {
     "name": "stdout",
     "output_type": "stream",
     "text": [
      "Accuracy:  75.97765363128491\n",
      "ROC-AUC:  0.8197854742827604\n",
      "Precision:  0.8260869565217391\n",
      "Recall:  0.5205479452054794\n"
     ]
    },
    {
     "data": {
      "image/png": "[encoded data removed]",
      "text/plain": [
       "<Figure size 1000x500 with 2 Axes>"
      ]
     },
     "metadata": {},
     "output_type": "display_data"
    }
   ],
   "source": [
    "#Computing the accuracy\n",
    "y_pred = ensemble_model.predict(Xtest)\n",
    "print(\"Accuracy: \",accuracy_score(y_pred, ytest)*100)  \n",
    "\n",
    "#Computing the ROC-AUC\n",
    "y_pred_prob = ensemble_model.predict_proba(Xtest)[:,1]\n",
    "fpr, tpr, auc_thresholds = roc_curve(ytest, y_pred_prob)\n",
    "print(\"ROC-AUC: \",auc(fpr, tpr))# AUC of ROC\n",
    "\n",
    "#Computing the precision and recall\n",
    "print(\"Precision: \", precision_score(ytest, y_pred))\n",
    "print(\"Recall: \", recall_score(ytest, y_pred))\n",
    "\n",
    "#Confusion matrix\n",
    "cm = pd.DataFrame(confusion_matrix(ytest, y_pred), columns=['Predicted 0', 'Predicted 1'], \n",
    "            index = ['Actual 0', 'Actual 1'])\n",
    "sns.heatmap(cm, annot=True, cmap='Blues', fmt='g');"
   ]
  },
  {
   "cell_type": "code",
   "execution_count": null,
   "id": "ba02e6aa",
   "metadata": {},
   "outputs": [],
   "source": []
  }
 ],
 "metadata": {
  "kernelspec": {
   "display_name": "Python 3 (ipykernel)",
   "language": "python",
   "name": "python3"
  },
  "language_info": {
   "codemirror_mode": {
    "name": "ipython",
    "version": 3
   },
   "file_extension": ".py",
   "mimetype": "text/x-python",
   "name": "python",
   "nbconvert_exporter": "python",
   "pygments_lexer": "ipython3",
   "version": "3.9.13"
  }
 },
 "nbformat": 4,
 "nbformat_minor": 5
}
