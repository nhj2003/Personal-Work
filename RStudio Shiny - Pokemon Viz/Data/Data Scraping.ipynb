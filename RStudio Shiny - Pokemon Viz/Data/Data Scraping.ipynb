{
 "cells": [
  {
   "cell_type": "code",
   "execution_count": 1,
   "id": "f6e20612-79e5-4b2a-8e69-05c5026cf95d",
   "metadata": {},
   "outputs": [],
   "source": [
    "import pandas as pd\n",
    "import numpy as np\n",
    "import requests\n",
    "from bs4 import BeautifulSoup\n",
    "import wikipedia as wp\n",
    "from io import StringIO"
   ]
  },
  {
   "cell_type": "markdown",
   "id": "0adf10da-ef3c-4279-9a36-b2ba78a543ab",
   "metadata": {},
   "source": [
    "Creating data for visualization. Taken from pokemondb site and from wikipedia. Going to merge them both because I want generation data in the dataframe as well, which is not present when scraping pokemondb"
   ]
  },
  {
   "cell_type": "code",
   "execution_count": 2,
   "id": "2b6b2734-e6c7-4cab-adab-fbab13d9c339",
   "metadata": {},
   "outputs": [],
   "source": [
    "page = requests.get(\"https://pokemondb.net/pokedex/all\")\n",
    "\n",
    "dex = pd.read_html(StringIO(page.text), attrs = {'id': 'pokedex'}, index_col = '#')\n",
    "\n",
    "dex[0].to_csv(\"output.csv\", encoding='utf-8')"
   ]
  },
  {
   "cell_type": "code",
   "execution_count": null,
   "id": "a1535e33-690b-4dd1-bbb4-8882f7717f14",
   "metadata": {},
   "outputs": [],
   "source": []
  },
  {
   "cell_type": "code",
   "execution_count": 3,
   "id": "5d44f085-f655-40d6-9059-d9ea7ca985c3",
   "metadata": {},
   "outputs": [],
   "source": [
    "html = wp.page(\"List_of_Pokémon\").html().encode(\"UTF-8\")\n",
    "old_df = pd.read_html(html)[2]  # Try 2nd table first as most pages contain contents table first"
   ]
  },
  {
   "cell_type": "markdown",
   "id": "970f6eb9-0da9-4cd6-bf0d-19329c1f1fc1",
   "metadata": {},
   "source": [
    "I unfortunately couldn't figure out a way to turn this into a neat little table using just pd.melt and pd.pivot commands. Maybe in the future I would be able to, but not now."
   ]
  },
  {
   "cell_type": "code",
   "execution_count": 4,
   "id": "891cb6b8-20bc-4218-b084-e9c5d0c66de9",
   "metadata": {},
   "outputs": [
    {
     "data": {
      "text/html": [
       "<div>\n",
       "<style scoped>\n",
       "    .dataframe tbody tr th:only-of-type {\n",
       "        vertical-align: middle;\n",
       "    }\n",
       "\n",
       "    .dataframe tbody tr th {\n",
       "        vertical-align: top;\n",
       "    }\n",
       "\n",
       "    .dataframe thead th {\n",
       "        text-align: right;\n",
       "    }\n",
       "</style>\n",
       "<table border=\"1\" class=\"dataframe\">\n",
       "  <thead>\n",
       "    <tr style=\"text-align: right;\">\n",
       "      <th></th>\n",
       "      <th>Generation</th>\n",
       "      <th>Name</th>\n",
       "    </tr>\n",
       "  </thead>\n",
       "  <tbody>\n",
       "    <tr>\n",
       "      <th>0</th>\n",
       "      <td>1.0</td>\n",
       "      <td>Bulbasaur</td>\n",
       "    </tr>\n",
       "    <tr>\n",
       "      <th>1</th>\n",
       "      <td>1.0</td>\n",
       "      <td>Ivysaur</td>\n",
       "    </tr>\n",
       "    <tr>\n",
       "      <th>2</th>\n",
       "      <td>1.0</td>\n",
       "      <td>Venusaur</td>\n",
       "    </tr>\n",
       "    <tr>\n",
       "      <th>3</th>\n",
       "      <td>1.0</td>\n",
       "      <td>Charmander</td>\n",
       "    </tr>\n",
       "    <tr>\n",
       "      <th>4</th>\n",
       "      <td>1.0</td>\n",
       "      <td>Charmeleon</td>\n",
       "    </tr>\n",
       "    <tr>\n",
       "      <th>...</th>\n",
       "      <td>...</td>\n",
       "      <td>...</td>\n",
       "    </tr>\n",
       "    <tr>\n",
       "      <th>115</th>\n",
       "      <td>9.0</td>\n",
       "      <td>Raging Bolt</td>\n",
       "    </tr>\n",
       "    <tr>\n",
       "      <th>116</th>\n",
       "      <td>9.0</td>\n",
       "      <td>Iron Boulder</td>\n",
       "    </tr>\n",
       "    <tr>\n",
       "      <th>117</th>\n",
       "      <td>9.0</td>\n",
       "      <td>Iron Crown</td>\n",
       "    </tr>\n",
       "    <tr>\n",
       "      <th>118</th>\n",
       "      <td>9.0</td>\n",
       "      <td>Terapagos</td>\n",
       "    </tr>\n",
       "    <tr>\n",
       "      <th>119</th>\n",
       "      <td>9.0</td>\n",
       "      <td>Pecharunt</td>\n",
       "    </tr>\n",
       "  </tbody>\n",
       "</table>\n",
       "<p>1025 rows × 2 columns</p>\n",
       "</div>"
      ],
      "text/plain": [
       "     Generation          Name\n",
       "0           1.0     Bulbasaur\n",
       "1           1.0       Ivysaur\n",
       "2           1.0      Venusaur\n",
       "3           1.0    Charmander\n",
       "4           1.0    Charmeleon\n",
       "..          ...           ...\n",
       "115         9.0   Raging Bolt\n",
       "116         9.0  Iron Boulder\n",
       "117         9.0    Iron Crown\n",
       "118         9.0     Terapagos\n",
       "119         9.0     Pecharunt\n",
       "\n",
       "[1025 rows x 2 columns]"
      ]
     },
     "execution_count": 4,
     "metadata": {},
     "output_type": "execute_result"
    }
   ],
   "source": [
    "df = old_df.copy()\n",
    "\n",
    "def process_generation(gen_num, gen_name, index_limit):\n",
    "    gen_df = pd.concat([pd.Series(gen_num, index=np.arange(155)), df[gen_name]['Name']], axis=1)\n",
    "    gen_df.columns = ['Generation', 'Name']\n",
    "    gen_df.Name = gen_df.Name.map(lambda c: c[:-1] if c[-1].isupper() else c)\n",
    "    return gen_df.loc[:index_limit]\n",
    "\n",
    "generations = [\n",
    "    (1, 'Generation I', 150),\n",
    "    (2, 'Generation II', 99),\n",
    "    (3, 'Generation III', 134),\n",
    "    (4, 'Generation IV', 106),\n",
    "    (5, 'Generation V', 156),\n",
    "    (6, 'Generation VI', 71),\n",
    "    (7, 'Generation VII', 87),\n",
    "    (8, 'Generation VIII', 95),\n",
    "    (9, 'Generation IX', 119),\n",
    "]\n",
    "\n",
    "# Process all generations and concatenate results\n",
    "gens = pd.concat([process_generation(gen_num, gen_name, index_limit) for gen_num, gen_name, index_limit in generations])\n",
    "gens"
   ]
  },
  {
   "cell_type": "code",
   "execution_count": 5,
   "id": "8763ae73-6804-4502-9e42-a94d2aa169f2",
   "metadata": {},
   "outputs": [
    {
     "data": {
      "text/plain": [
       "3      NaN\n",
       "7      NaN\n",
       "8      NaN\n",
       "12     NaN\n",
       "19     NaN\n",
       "        ..\n",
       "1203   NaN\n",
       "1204   NaN\n",
       "1211   NaN\n",
       "1212   NaN\n",
       "1213   NaN\n",
       "Name: Generation, Length: 241, dtype: float64"
      ]
     },
     "execution_count": 5,
     "metadata": {},
     "output_type": "execute_result"
    }
   ],
   "source": [
    "final = pd.DataFrame(dex[0]).merge(gens, how = 'left', on = 'Name')\n",
    "final.Generation[final.Generation.isnull()]"
   ]
  },
  {
   "cell_type": "code",
   "execution_count": 6,
   "id": "ab7d77c5-4ed0-4ba2-a87e-31fc58c74c60",
   "metadata": {},
   "outputs": [],
   "source": [
    "def label(name):\n",
    "    keyword_map = {\n",
    "        'Mega': 6,\n",
    "        'Alolan': 7,\n",
    "        'Galarian': 8,\n",
    "        'Hisuian': 8,\n",
    "        'Paldean': 9,\n",
    "        'Therian': 5,\n",
    "        'Incarnate': 5,\n",
    "        'Partner': 8,\n",
    "        'Nidoran♂': 1,\n",
    "        'Nidoran♀': 1,\n",
    "        'Breed': 9,\n",
    "        'Castform': 3,\n",
    "        'Primal': 7,\n",
    "        'Deoxys': 3,\n",
    "        'Burmy': 4,\n",
    "        'Wormadam': 4,\n",
    "        'Porygon-Z': 4,\n",
    "        'Rotom': 4,\n",
    "        'Red-Striped': 5,\n",
    "        'Blue-Striped': 5,\n",
    "        'White-Striped': 8,\n",
    "        'Darmanitan': 5,\n",
    "        'Kyurem': 5,\n",
    "        'Keldeo': 5,\n",
    "        'Meloetta': 5,\n",
    "        'Genesect': 5,\n",
    "        'Ash-Greninja': 7,\n",
    "        'Flabébé': 6,\n",
    "        'Meowstic': 6,\n",
    "        'Aegislash': 6,\n",
    "        'Pumpkaboo': 6,\n",
    "        'Gourgeist': 6,\n",
    "        '50%': 6,\n",
    "        '10%': 7,\n",
    "        'Complete Forme': 7,\n",
    "        'Hoopa': 6,\n",
    "        'Oricorio': 7,\n",
    "        'Rockruff': 7,\n",
    "        'Lycanroc': 7,\n",
    "        'Wishiwashi': 7,\n",
    "        'Cranidos': 4,\n",
    "        'Rampardos': 4,\n",
    "        'Shieldon': 4,\n",
    "        'Bastiodon': 4,\n",
    "        'Origin Forme': 4,\n",
    "        'Shaymin': 4,\n",
    "        'Altered Forme': 4,\n",
    "        'Minior': 7,\n",
    "        'Necrozma': 7,\n",
    "        'Toxtricity': 8,\n",
    "        'Eiscue': 8,\n",
    "        'Indeedee': 8,\n",
    "        'Morpeko': 8,\n",
    "        'Zacian': 8,\n",
    "        'Zamazenta': 8,\n",
    "        'Eternamax': 8,\n",
    "        'Urshifu': 8,\n",
    "        'Calyrex': 8,\n",
    "        'Bloodmoon': 8,\n",
    "        'Oinkologne': 9,\n",
    "        'Basculegion': 8,\n",
    "        'Maushold': 9,\n",
    "        'Squawkabilly': 9,\n",
    "        'Palafin': 9,\n",
    "        'Tatsugiri': 9,\n",
    "        'Dudunsparce': 9,\n",
    "        'Gimmighoul': 9,\n",
    "        'Koraidon': 9,\n",
    "        'Miraidon': 9,\n",
    "        'Ogerpon': 9,\n",
    "        'Terapagos': 9\n",
    "    }\n",
    "\n",
    "    # Iterate through the keyword map and check for presence in name\n",
    "    for keyword, label_value in keyword_map.items():\n",
    "        if keyword in name:\n",
    "            return label_value\n",
    "            \n",
    "final.Generation = final.Generation.fillna(final.Name[final.Generation.isnull()].map(label))"
   ]
  },
  {
   "cell_type": "code",
   "execution_count": 7,
   "id": "c1a38c20-b0fc-4e36-9f84-96a29da87a2e",
   "metadata": {},
   "outputs": [],
   "source": [
    "final.Generation = final.Generation.astype(int)"
   ]
  },
  {
   "cell_type": "code",
   "execution_count": 8,
   "id": "8a29753c-b9d4-4ba7-b902-a4cb30a1f893",
   "metadata": {},
   "outputs": [],
   "source": [
    "final.to_csv('Pokemon.csv', index = False)"
   ]
  },
  {
   "cell_type": "markdown",
   "id": "ba76233d-eeac-4dba-ab9a-58a74a1125f4",
   "metadata": {},
   "source": [
    "If there is any easier way to do this then I am going to curse the Gods up above. I think this was the only way to do it though, especially since I definitely wanted the pokemondb"
   ]
  },
  {
   "cell_type": "markdown",
   "id": "19254485-ccff-4660-b50d-bbfc4addb0d8",
   "metadata": {},
   "source": [
    "More data just to get the names list of pseudo-legendary and legendary and mythical pokemon. Mostly goign through all this because it would be much too bothersome to have to go and type them all down manually."
   ]
  },
  {
   "cell_type": "code",
   "execution_count": 9,
   "id": "7e6027e0-6f2e-4955-ab6d-65f00a3dab68",
   "metadata": {},
   "outputs": [],
   "source": [
    "url = 'https://www.serebii.net/pokemon/legendary.shtml'\n",
    "\n",
    "response = requests.get(url)\n",
    "soup = BeautifulSoup(response.content, 'html.parser')"
   ]
  },
  {
   "cell_type": "code",
   "execution_count": 10,
   "id": "7f592fad-149d-4477-96fd-95c40b961098",
   "metadata": {},
   "outputs": [],
   "source": [
    "sub = [item.text for item in soup.find_all('table')][1:56]\n",
    "leg = [item.text for item in soup.find_all('table')][57:84]\n",
    "mythical = [item.text for item in soup.find_all('table')][85:]"
   ]
  },
  {
   "cell_type": "code",
   "execution_count": 11,
   "id": "f44ecfc4-b803-40bf-ac6e-7ee9ba8f5b38",
   "metadata": {},
   "outputs": [],
   "source": [
    "sub_leg = []\n",
    "for item in sub:\n",
    "    item = item.split()\n",
    "    if item[0] in ['Type:', 'Tapu']:\n",
    "        sub_leg.append(item[0] + ' ' + item[1])\n",
    "    elif 'Until' in item[0]:\n",
    "        sub_leg.append(item[0].replace('Until', ''))\n",
    "    else:\n",
    "        sub_leg.append(item[0])\n",
    "\n",
    "leg = [item.split()[0] for item in leg]\n",
    "mythical = [item.split()[0] for item in mythical]"
   ]
  },
  {
   "cell_type": "code",
   "execution_count": 12,
   "id": "cc0a81db-131e-4094-935f-056ab3b7cfd6",
   "metadata": {},
   "outputs": [],
   "source": [
    "pd.DataFrame(sub_leg).to_csv('sub_leglist.csv', index = False)\n",
    "pd.DataFrame(leg).to_csv('leglist.csv', index = False)\n",
    "pd.DataFrame(mythical).to_csv('mythicallist.csv', index = False)"
   ]
  },
  {
   "cell_type": "markdown",
   "id": "623acef9-1523-4331-ad77-2ccf06aaa91c",
   "metadata": {},
   "source": [
    "Pseudo legendary scraping here"
   ]
  },
  {
   "cell_type": "code",
   "execution_count": 13,
   "id": "3c4a4f31-47eb-4d5c-ac36-78716139c9da",
   "metadata": {},
   "outputs": [],
   "source": [
    "url = 'https://bulbapedia.bulbagarden.net/wiki/Pseudo-legendary_Pok%C3%A9mon'\n",
    "\n",
    "response = requests.get(url)\n",
    "soup = BeautifulSoup(response.content, 'html.parser')"
   ]
  },
  {
   "cell_type": "code",
   "execution_count": 14,
   "id": "815f46db-1c4f-4821-a3ba-d1bc47b392c0",
   "metadata": {},
   "outputs": [],
   "source": [
    "pseudo_list = [item.text for item in soup.find_all('div', {'class': 'roundy'})][1:12]\n",
    "pseudo_list = [item.split()[::2][1:] for item in pseudo_list]\n",
    "pseudo_list.pop(9)\n",
    "pseudo_list = [item for sublist in pseudo_list for item in sublist]\n",
    "pseudo_list.extend(['Hisuian Goodra', 'Hisuian Sliggoo'])"
   ]
  },
  {
   "cell_type": "code",
   "execution_count": 18,
   "id": "fb6ceba4-f506-4156-999b-954c3c3d14f9",
   "metadata": {},
   "outputs": [],
   "source": [
    "pd.DataFrame(pseudo_list).to_csv('pseudolist.csv', index = False)"
   ]
  },
  {
   "cell_type": "code",
   "execution_count": null,
   "id": "18dd49ee-4cb5-4825-9e60-895e61f662b6",
   "metadata": {},
   "outputs": [],
   "source": []
  }
 ],
 "metadata": {
  "kernelspec": {
   "display_name": "Python 3 (ipykernel)",
   "language": "python",
   "name": "python3"
  },
  "language_info": {
   "codemirror_mode": {
    "name": "ipython",
    "version": 3
   },
   "file_extension": ".py",
   "mimetype": "text/x-python",
   "name": "python",
   "nbconvert_exporter": "python",
   "pygments_lexer": "ipython3",
   "version": "3.9.20"
  }
 },
 "nbformat": 4,
 "nbformat_minor": 5
}
