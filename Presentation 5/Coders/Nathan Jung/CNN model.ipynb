{
  "cells": [
    {
      "cell_type": "code",
      "execution_count": 11,
      "id": "2ed1b45c-ffc9-4d71-9712-fa6da9b71eb4",
      "metadata": {
        "id": "2ed1b45c-ffc9-4d71-9712-fa6da9b71eb4"
      },
      "outputs": [],
      "source": [
        "import torchvision\n",
        "import torch.nn as nn\n",
        "import numpy as np\n",
        "import torchvision.transforms as transforms"
      ]
    },
    {
      "cell_type": "code",
      "source": [
        "from google.colab import drive\n",
        "drive.mount('/content/drive')"
      ],
      "metadata": {
        "id": "Kqe_gbkKFW4a",
        "outputId": "5f659075-dfe1-4ec0-bb38-58ba36db99b9",
        "colab": {
          "base_uri": "https://localhost:8080/"
        }
      },
      "id": "Kqe_gbkKFW4a",
      "execution_count": 13,
      "outputs": [
        {
          "output_type": "stream",
          "name": "stdout",
          "text": [
            "Drive already mounted at /content/drive; to attempt to forcibly remount, call drive.mount(\"/content/drive\", force_remount=True).\n"
          ]
        }
      ]
    },
    {
      "cell_type": "code",
      "execution_count": null,
      "id": "6f048efc-03f6-4902-9042-db84dff3fd0f",
      "metadata": {
        "id": "6f048efc-03f6-4902-9042-db84dff3fd0f"
      },
      "outputs": [],
      "source": [
        "num_classes = 2\n",
        "model = torchvision.models.alexnet(pretrained = True)\n",
        "# replace the last classifier\n",
        "model.classifier[6] = nn.Linear(4096, num_classes)"
      ]
    },
    {
      "cell_type": "code",
      "execution_count": null,
      "id": "d5195c83-8b73-46f8-89cd-de05791a841f",
      "metadata": {
        "id": "d5195c83-8b73-46f8-89cd-de05791a841f",
        "outputId": "896600d9-e945-4efd-835b-194ae7ffcffc"
      },
      "outputs": [
        {
          "data": {
            "text/plain": [
              "Sequential(\n",
              "  (0): Dropout(p=0.5, inplace=False)\n",
              "  (1): Linear(in_features=9216, out_features=4096, bias=True)\n",
              "  (2): ReLU(inplace=True)\n",
              "  (3): Dropout(p=0.5, inplace=False)\n",
              "  (4): Linear(in_features=4096, out_features=4096, bias=True)\n",
              "  (5): ReLU(inplace=True)\n",
              "  (6): Linear(in_features=4096, out_features=2, bias=True)\n",
              ")"
            ]
          },
          "execution_count": 36,
          "metadata": {},
          "output_type": "execute_result"
        }
      ],
      "source": [
        "model.classifier"
      ]
    },
    {
      "cell_type": "code",
      "execution_count": null,
      "id": "63fa309f-0fc9-4100-a651-4e01e35e6600",
      "metadata": {
        "id": "63fa309f-0fc9-4100-a651-4e01e35e6600"
      },
      "outputs": [],
      "source": [
        "# Import necessary libraries\n",
        "import torch\n",
        "from PIL import Image\n",
        "import torchvision.transforms as transforms\n",
        "\n",
        "# Read a PIL image\n",
        "image = Image.open('iceland.jpg')\n",
        "\n",
        "# Define a transform to convert PIL\n",
        "# image to a Torch tensor\n",
        "transform = transforms.Compose([\n",
        "    transforms.PILToTensor()\n",
        "])\n",
        "\n",
        "# transform = transforms.PILToTensor()\n",
        "# Convert the PIL image to Torch tensor\n",
        "img_tensor = transform(image)\n",
        "\n",
        "# print the converted Torch tensor\n",
        "print(img_tensor)\n"
      ]
    }
  ],
  "metadata": {
    "kernelspec": {
      "display_name": "Python 3 (ipykernel)",
      "language": "python",
      "name": "python3"
    },
    "language_info": {
      "codemirror_mode": {
        "name": "ipython",
        "version": 3
      },
      "file_extension": ".py",
      "mimetype": "text/x-python",
      "name": "python",
      "nbconvert_exporter": "python",
      "pygments_lexer": "ipython3",
      "version": "3.12.7"
    },
    "colab": {
      "provenance": []
    }
  },
  "nbformat": 4,
  "nbformat_minor": 5
}