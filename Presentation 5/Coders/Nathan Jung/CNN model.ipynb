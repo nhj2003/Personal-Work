{
  "cells": [
    {
      "cell_type": "code",
      "execution_count": 43,
      "id": "2ed1b45c-ffc9-4d71-9712-fa6da9b71eb4",
      "metadata": {
        "id": "2ed1b45c-ffc9-4d71-9712-fa6da9b71eb4"
      },
      "outputs": [],
      "source": [
        "import torchvision\n",
        "import torch\n",
        "from PIL import Image\n",
        "import torch.nn as nn\n",
        "from torch import optim\n",
        "import numpy as np\n",
        "from torch.utils.data import Dataset, DataLoader\n",
        "from torchvision import transforms, datasets\n",
        "import os"
      ]
    },
    {
      "cell_type": "code",
      "source": [
        "from google.colab import drive\n",
        "drive.mount('/content/drive')"
      ],
      "metadata": {
        "colab": {
          "base_uri": "https://localhost:8080/"
        },
        "id": "ay4_UfH8GVsD",
        "outputId": "f2d98ef9-87b4-4113-e857-2ae690febdc7"
      },
      "id": "ay4_UfH8GVsD",
      "execution_count": 44,
      "outputs": [
        {
          "output_type": "stream",
          "name": "stdout",
          "text": [
            "Drive already mounted at /content/drive; to attempt to forcibly remount, call drive.mount(\"/content/drive\", force_remount=True).\n"
          ]
        }
      ]
    },
    {
      "cell_type": "code",
      "execution_count": 45,
      "id": "6f048efc-03f6-4902-9042-db84dff3fd0f",
      "metadata": {
        "id": "6f048efc-03f6-4902-9042-db84dff3fd0f"
      },
      "outputs": [],
      "source": [
        "num_classes = 2\n",
        "model = torchvision.models.alexnet(pretrained = True)\n",
        "# replace the last classifier\n",
        "model.classifier[6] = nn.Linear(model.classifier[6].in_features, num_classes)"
      ]
    },
    {
      "cell_type": "code",
      "execution_count": 46,
      "id": "d5195c83-8b73-46f8-89cd-de05791a841f",
      "metadata": {
        "id": "d5195c83-8b73-46f8-89cd-de05791a841f"
      },
      "outputs": [],
      "source": [
        "for param in model.parameters():\n",
        "    param.requires_grad = False\n",
        "\n",
        "for param in model.classifier[6].parameters():\n",
        "    param.requires_grad = True"
      ]
    },
    {
      "cell_type": "code",
      "source": [
        "class PNGDataset(Dataset):\n",
        "    def __init__(self, folder_path, transform=None):\n",
        "        self.folder_path = folder_path\n",
        "        self.transform = transform\n",
        "        self.image_paths = [os.path.join(folder_path, fname) for fname in os.listdir(folder_path) if fname.endswith('.png')]\n",
        "\n",
        "    def __len__(self):\n",
        "        return len(self.image_paths)\n",
        "\n",
        "    def __getitem__(self, idx):\n",
        "        image_path = self.image_paths[idx]\n",
        "        image = Image.open(image_path).convert('RGB')  # Ensure images are in RGB format\n",
        "        if self.transform:\n",
        "            image = self.transform(image)\n",
        "        if 'benign' in image_path:\n",
        "            label = 0\n",
        "        else:\n",
        "            label = 1\n",
        "        return image, label\n",
        "\n",
        "image_folder_path = '/content/drive/MyDrive/patch_outputs/'\n",
        "\n",
        "\n",
        "transform = transforms.Compose([\n",
        "    transforms.Resize((224, 224)),\n",
        "    transforms.ToTensor(),\n",
        "    transforms.Normalize(mean=[0.485, 0.456, 0.406], std=[0.229, 0.224, 0.225])\n",
        "])\n",
        "\n",
        "dataset = PNGDataset(folder_path=image_folder_path, transform=transform)\n",
        "\n",
        "dataloader = DataLoader(dataset, batch_size=32, shuffle=True)"
      ],
      "metadata": {
        "id": "M5W7pyZ7He6-"
      },
      "id": "M5W7pyZ7He6-",
      "execution_count": 47,
      "outputs": []
    },
    {
      "cell_type": "code",
      "source": [
        "criterion = nn.CrossEntropyLoss()\n",
        "optimizer = optim.Adam(model.parameters(), lr=0.001)\n",
        "\n",
        "# Training loop\n",
        "num_epochs = 5  # Number of epochs\n",
        "device = torch.device('cuda' if torch.cuda.is_available() else 'cpu')\n",
        "model.to(device)\n",
        "\n",
        "for epoch in range(num_epochs):\n",
        "    model.train()\n",
        "    running_loss = 0.0\n",
        "    for images, labels in dataloader:\n",
        "        images, labels = images.to(device), labels.to(device)\n",
        "\n",
        "\n",
        "        optimizer.zero_grad()\n",
        "\n",
        "\n",
        "        outputs = model(images)\n",
        "        loss = criterion(outputs, labels)\n",
        "\n",
        "\n",
        "        loss.backward()\n",
        "        optimizer.step()\n",
        "\n",
        "        running_loss += loss.item()\n",
        "\n",
        "    print(f'Epoch [{epoch + 1}/{num_epochs}], Loss: {running_loss / len(dataloader):.4f}')\n",
        "\n",
        "print('Training complete!')"
      ],
      "metadata": {
        "colab": {
          "base_uri": "https://localhost:8080/"
        },
        "id": "z5qLsFTfKaX0",
        "outputId": "d411ee0a-3e3d-4cb3-f7a0-21aaafbf1118"
      },
      "id": "z5qLsFTfKaX0",
      "execution_count": 48,
      "outputs": [
        {
          "output_type": "stream",
          "name": "stdout",
          "text": [
            "Epoch [1/5], Loss: 0.3824\n",
            "Epoch [2/5], Loss: 0.1221\n",
            "Epoch [3/5], Loss: 0.0971\n",
            "Epoch [4/5], Loss: 0.0791\n",
            "Epoch [5/5], Loss: 0.0692\n",
            "Training complete!\n"
          ]
        }
      ]
    },
    {
      "cell_type": "code",
      "source": [
        "running_loss"
      ],
      "metadata": {
        "colab": {
          "base_uri": "https://localhost:8080/"
        },
        "id": "vhuMgx7_LQOG",
        "outputId": "2cc57fe0-4821-490e-b56f-08b7b9100006"
      },
      "id": "vhuMgx7_LQOG",
      "execution_count": 49,
      "outputs": [
        {
          "output_type": "execute_result",
          "data": {
            "text/plain": [
              "0.4841033435659483"
            ]
          },
          "metadata": {},
          "execution_count": 49
        }
      ]
    },
    {
      "cell_type": "code",
      "source": [],
      "metadata": {
        "id": "9KZ3ZxG5M8xh"
      },
      "id": "9KZ3ZxG5M8xh",
      "execution_count": null,
      "outputs": []
    }
  ],
  "metadata": {
    "kernelspec": {
      "display_name": "Python 3 (ipykernel)",
      "language": "python",
      "name": "python3"
    },
    "language_info": {
      "codemirror_mode": {
        "name": "ipython",
        "version": 3
      },
      "file_extension": ".py",
      "mimetype": "text/x-python",
      "name": "python",
      "nbconvert_exporter": "python",
      "pygments_lexer": "ipython3",
      "version": "3.12.7"
    },
    "colab": {
      "provenance": []
    }
  },
  "nbformat": 4,
  "nbformat_minor": 5
}