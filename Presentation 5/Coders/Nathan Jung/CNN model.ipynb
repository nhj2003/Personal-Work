{
  "cells": [
    {
      "cell_type": "code",
      "execution_count": 14,
      "id": "2ed1b45c-ffc9-4d71-9712-fa6da9b71eb4",
      "metadata": {
        "id": "2ed1b45c-ffc9-4d71-9712-fa6da9b71eb4"
      },
      "outputs": [],
      "source": [
        "import torchvision\n",
        "import torch.nn as nn\n",
        "import numpy as np\n",
        "import torchvision.transforms as transforms"
      ]
    },
    {
      "cell_type": "code",
      "source": [
        "from google.colab import drive\n",
        "drive.mount('/content/drive', force_remount=True)\n",
        "patch_path = '/content/drive/MyDrive/patch_outputs'"
      ],
      "metadata": {
        "id": "g0uKwJUxFkyB",
        "outputId": "9f3509f7-6637-413d-e76b-eaa0bbabd3d1",
        "colab": {
          "base_uri": "https://localhost:8080/"
        }
      },
      "id": "g0uKwJUxFkyB",
      "execution_count": 25,
      "outputs": [
        {
          "output_type": "stream",
          "name": "stdout",
          "text": [
            "Mounted at /content/drive\n"
          ]
        }
      ]
    },
    {
      "cell_type": "code",
      "source": [
        "import matplotlib.image as img\n",
        "img.imread('/content/drive/MyDrive/patch_outputs/h&e_benign_case24_match1_patch0.png')"
      ],
      "metadata": {
        "id": "tIKdMG7WF6UW",
        "outputId": "4312cf88-c048-4c64-dcee-3f046c28cb6a",
        "colab": {
          "base_uri": "https://localhost:8080/"
        }
      },
      "id": "tIKdMG7WF6UW",
      "execution_count": 36,
      "outputs": [
        {
          "output_type": "execute_result",
          "data": {
            "text/plain": [
              "array([[[0.        , 0.        , 0.        ],\n",
              "        [0.        , 0.        , 0.        ],\n",
              "        [0.        , 0.        , 0.        ],\n",
              "        ...,\n",
              "        [0.        , 0.        , 0.        ],\n",
              "        [0.        , 0.        , 0.        ],\n",
              "        [0.        , 0.        , 0.        ]],\n",
              "\n",
              "       [[0.        , 0.        , 0.        ],\n",
              "        [0.        , 0.        , 0.        ],\n",
              "        [0.03529412, 0.02352941, 0.03137255],\n",
              "        ...,\n",
              "        [0.25490198, 0.10196079, 0.15294118],\n",
              "        [0.20392157, 0.07843138, 0.12156863],\n",
              "        [0.        , 0.        , 0.        ]],\n",
              "\n",
              "       [[0.        , 0.        , 0.        ],\n",
              "        [0.44313726, 0.3254902 , 0.4       ],\n",
              "        [0.56078434, 0.40784314, 0.5058824 ],\n",
              "        ...,\n",
              "        [0.37254903, 0.15686275, 0.22745098],\n",
              "        [0.29411766, 0.11372549, 0.17254902],\n",
              "        [0.        , 0.        , 0.        ]],\n",
              "\n",
              "       ...,\n",
              "\n",
              "       [[0.        , 0.        , 0.        ],\n",
              "        [0.05882353, 0.05882353, 0.05882353],\n",
              "        [0.9137255 , 0.9137255 , 0.9254902 ],\n",
              "        ...,\n",
              "        [0.9019608 , 0.8980392 , 0.90588236],\n",
              "        [0.6509804 , 0.64705884, 0.654902  ],\n",
              "        [0.        , 0.        , 0.        ]],\n",
              "\n",
              "       [[0.        , 0.        , 0.        ],\n",
              "        [0.        , 0.        , 0.        ],\n",
              "        [0.54509807, 0.54509807, 0.54901963],\n",
              "        ...,\n",
              "        [0.8980392 , 0.89411765, 0.9019608 ],\n",
              "        [0.69411767, 0.6901961 , 0.69411767],\n",
              "        [0.        , 0.        , 0.        ]],\n",
              "\n",
              "       [[0.        , 0.        , 0.        ],\n",
              "        [0.        , 0.        , 0.        ],\n",
              "        [0.        , 0.        , 0.        ],\n",
              "        ...,\n",
              "        [0.05490196, 0.05490196, 0.05490196],\n",
              "        [0.        , 0.        , 0.        ],\n",
              "        [0.        , 0.        , 0.        ]]], dtype=float32)"
            ]
          },
          "metadata": {},
          "execution_count": 36
        }
      ]
    },
    {
      "cell_type": "code",
      "execution_count": null,
      "id": "6f048efc-03f6-4902-9042-db84dff3fd0f",
      "metadata": {
        "id": "6f048efc-03f6-4902-9042-db84dff3fd0f"
      },
      "outputs": [],
      "source": [
        "num_classes = 2\n",
        "model = torchvision.models.alexnet(pretrained = True)\n",
        "# replace the last classifier\n",
        "model.classifier[6] = nn.Linear(4096, num_classes)"
      ]
    },
    {
      "cell_type": "code",
      "execution_count": null,
      "id": "d5195c83-8b73-46f8-89cd-de05791a841f",
      "metadata": {
        "id": "d5195c83-8b73-46f8-89cd-de05791a841f",
        "outputId": "0614c8b6-a847-4472-f71e-68155e5616bf"
      },
      "outputs": [
        {
          "data": {
            "text/plain": [
              "Sequential(\n",
              "  (0): Dropout(p=0.5, inplace=False)\n",
              "  (1): Linear(in_features=9216, out_features=4096, bias=True)\n",
              "  (2): ReLU(inplace=True)\n",
              "  (3): Dropout(p=0.5, inplace=False)\n",
              "  (4): Linear(in_features=4096, out_features=4096, bias=True)\n",
              "  (5): ReLU(inplace=True)\n",
              "  (6): Linear(in_features=4096, out_features=2, bias=True)\n",
              ")"
            ]
          },
          "execution_count": 36,
          "metadata": {},
          "output_type": "execute_result"
        }
      ],
      "source": [
        "model.classifier"
      ]
    },
    {
      "cell_type": "code",
      "execution_count": null,
      "id": "63fa309f-0fc9-4100-a651-4e01e35e6600",
      "metadata": {
        "id": "63fa309f-0fc9-4100-a651-4e01e35e6600"
      },
      "outputs": [],
      "source": [
        "# Import necessary libraries\n",
        "import torch\n",
        "from PIL import Image\n",
        "import torchvision.transforms as transforms\n",
        "\n",
        "# Read a PIL image\n",
        "image = Image.open('iceland.jpg')\n",
        "\n",
        "# Define a transform to convert PIL\n",
        "# image to a Torch tensor\n",
        "transform = transforms.Compose([\n",
        "    transforms.PILToTensor()\n",
        "])\n",
        "\n",
        "# transform = transforms.PILToTensor()\n",
        "# Convert the PIL image to Torch tensor\n",
        "img_tensor = transform(image)\n",
        "\n",
        "# print the converted Torch tensor\n",
        "print(img_tensor)\n"
      ]
    }
  ],
  "metadata": {
    "kernelspec": {
      "display_name": "Python 3 (ipykernel)",
      "language": "python",
      "name": "python3"
    },
    "language_info": {
      "codemirror_mode": {
        "name": "ipython",
        "version": 3
      },
      "file_extension": ".py",
      "mimetype": "text/x-python",
      "name": "python",
      "nbconvert_exporter": "python",
      "pygments_lexer": "ipython3",
      "version": "3.12.7"
    },
    "colab": {
      "provenance": []
    }
  },
  "nbformat": 4,
  "nbformat_minor": 5
}